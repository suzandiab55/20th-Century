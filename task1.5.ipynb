{
 "cells": [
  {
   "cell_type": "code",
   "execution_count": 1,
   "id": "f69843ad-ba65-4d58-ad2e-7c14aadb2d97",
   "metadata": {},
   "outputs": [
    {
     "name": "stdout",
     "output_type": "stream",
     "text": [
      "Intel MKL WARNING: Support of Intel(R) Streaming SIMD Extensions 4.2 (Intel(R) SSE4.2) enabled only processors has been deprecated. Intel oneAPI Math Kernel Library 2025.0 will require Intel(R) Advanced Vector Extensions (Intel(R) AVX) instructions.\n",
      "Intel MKL WARNING: Support of Intel(R) Streaming SIMD Extensions 4.2 (Intel(R) SSE4.2) enabled only processors has been deprecated. Intel oneAPI Math Kernel Library 2025.0 will require Intel(R) Advanced Vector Extensions (Intel(R) AVX) instructions.\n"
     ]
    },
    {
     "name": "stderr",
     "output_type": "stream",
     "text": [
      "[nltk_data] Downloading package stopwords to\n",
      "[nltk_data]     /Users/suzandiab/nltk_data...\n",
      "[nltk_data]   Package stopwords is already up-to-date!\n",
      "[nltk_data] Downloading package punkt to /Users/suzandiab/nltk_data...\n",
      "[nltk_data]   Package punkt is already up-to-date!\n",
      "[nltk_data] Downloading package averaged_perceptron_tagger to\n",
      "[nltk_data]     /Users/suzandiab/nltk_data...\n",
      "[nltk_data]   Package averaged_perceptron_tagger is already up-to-\n",
      "[nltk_data]       date!\n"
     ]
    }
   ],
   "source": [
    "# Importing necessary libraries \n",
    "\n",
    "from textblob import TextBlob \n",
    "import pandas as pd\n",
    "import seaborn as sns\n",
    "import matplotlib.pyplot as plt\n",
    "import matplotlib\n",
    "import nltk\n",
    "import re\n",
    "nltk.download('stopwords')\n",
    "nltk.download('punkt')\n",
    "nltk.download('averaged_perceptron_tagger')\n",
    "from collections import Counter\n",
    "sns.set()"
   ]
  },
  {
   "cell_type": "code",
   "execution_count": 2,
   "id": "40ebb3ae-e305-4139-877b-22d3402b0d4e",
   "metadata": {},
   "outputs": [],
   "source": [
    "# Opening txt file \n",
    "myfile = open('scraped_page.txt', encoding='utf-8') "
   ]
  },
  {
   "cell_type": "code",
   "execution_count": 3,
   "id": "62f65f1f-d5ea-46b4-a67a-e02c757cf4c3",
   "metadata": {},
   "outputs": [],
   "source": [
    "# Importing txt file\n",
    "\n",
    "with open('scraped_page.txt', 'r', errors='ignore') as file: \n",
    "   data = file.read().replace('\\n','')"
   ]
  },
  {
   "cell_type": "code",
   "execution_count": 4,
   "id": "c96ce338-f9eb-4dbb-b360-94e781877f7e",
   "metadata": {
    "scrolled": true
   },
   "outputs": [
    {
     "name": "stdout",
     "output_type": "stream",
     "text": [
      "['Contents hide(Top)Events in the 20th centuryToggle Events in the 20th century subsectionSee alsoReferencesSourcesExternal linksKey events of the 20th century2 languagesArticleTalkReadEditView historyToolsFrom Wikipedia, the free encyclopediaThe 20th century changed the world in unprecedented ways.', 'The World Wars sparked tension between countries and led to the creation of atomic bombs, the Cold War led to the Space Race and the creation of space-based rockets, and the World Wide Web was created.']\n"
     ]
    }
   ],
   "source": [
    "# Sentence tokenization\n",
    "\n",
    "from nltk.tokenize import sent_tokenize\n",
    "tokenized_sent = sent_tokenize(data)\n",
    "print(tokenized_sent[:2]) "
   ]
  },
  {
   "cell_type": "code",
   "execution_count": 5,
   "id": "b817fb01-1052-4143-9494-c585b5479274",
   "metadata": {
    "scrolled": true
   },
   "outputs": [
    {
     "name": "stdout",
     "output_type": "stream",
     "text": [
      "['Contents', 'hide', '(', 'Top', ')']\n"
     ]
    }
   ],
   "source": [
    "# Word tokenization\n",
    "\n",
    "from nltk.tokenize import word_tokenize\n",
    "tokenized_word = word_tokenize(data)\n",
    "print(tokenized_word[:5]) "
   ]
  },
  {
   "cell_type": "code",
   "execution_count": 6,
   "id": "d16fb6bf-309d-4411-aab1-360425f48062",
   "metadata": {},
   "outputs": [
    {
     "name": "stdout",
     "output_type": "stream",
     "text": [
      "<FreqDist with 4783 samples and 20128 outcomes>\n"
     ]
    }
   ],
   "source": [
    "# Frequency Distribution of the words \n",
    "\n",
    "from nltk.probability import FreqDist\n",
    "dist_words = FreqDist(tokenized_word)\n",
    "print(dist_words) "
   ]
  },
  {
   "cell_type": "code",
   "execution_count": 7,
   "id": "fb838d1e-ae93-4631-a958-e5e9cdf8e6d1",
   "metadata": {
    "scrolled": true
   },
   "outputs": [
    {
     "data": {
      "text/plain": [
       "[('.', 1285),\n",
       " ('the', 1086),\n",
       " (',', 990),\n",
       " ('of', 597),\n",
       " ('and', 395),\n",
       " ('to', 319),\n",
       " ('[', 303),\n",
       " (']', 303),\n",
       " ('The', 301),\n",
       " ('in', 287)]"
      ]
     },
     "execution_count": 7,
     "metadata": {},
     "output_type": "execute_result"
    }
   ],
   "source": [
    "# 10 most common words \n",
    "dist_words.most_common(10)"
   ]
  },
  {
   "cell_type": "code",
   "execution_count": 8,
   "id": "9c208c07-1583-4420-ab7e-474656194955",
   "metadata": {},
   "outputs": [
    {
     "data": {
      "image/png": "[encoded data removed]",
      "text/plain": [
       "<Figure size 800x300 with 1 Axes>"
      ]
     },
     "metadata": {},
     "output_type": "display_data"
    }
   ],
   "source": [
    "# Frequency Distribution Plot\n",
    "\n",
    "plt.figure(figsize=(8, 3))\n",
    "dist_words.plot(10, cumulative=False)\n",
    "plt.show()"
   ]
  },
  {
   "cell_type": "code",
   "execution_count": 9,
   "id": "3dbf150e-af27-4f05-a6e1-e99ae997a83a",
   "metadata": {
    "scrolled": true
   },
   "outputs": [
    {
     "name": "stdout",
     "output_type": "stream",
     "text": [
      "['before', 'aren', 'few', 'haven', 'shan', \"you're\", 'just', \"isn't\", 'this', 'myself']\n"
     ]
    }
   ],
   "source": [
    "# Defining stop words\n",
    "\n",
    "from nltk.corpus import stopwords\n",
    "stop_words = set(stopwords.words(\"english\"))\n",
    "print(list(stop_words)[:10])"
   ]
  },
  {
   "cell_type": "code",
   "execution_count": 10,
   "id": "a3d1abc6-5efc-4275-b287-541b2e575320",
   "metadata": {},
   "outputs": [],
   "source": [
    "# Removing stopwords in text\n",
    "\n",
    "filtered_words = [] # creates an empty list\n",
    "for word in tokenized_word:\n",
    "    if word not in stop_words:\n",
    "        filtered_words.append(word)"
   ]
  },
  {
   "cell_type": "code",
   "execution_count": 11,
   "id": "17468f3c-7c7e-49da-8578-f69d254f53d0",
   "metadata": {
    "scrolled": true
   },
   "outputs": [
    {
     "name": "stdout",
     "output_type": "stream",
     "text": [
      "['Contents', 'hide', '(', 'Top', ')', 'Events', '20th', 'centuryToggle', 'Events', '20th']\n"
     ]
    }
   ],
   "source": [
    "# Viewing filtered words list \n",
    "print(filtered_words[:10])"
   ]
  },
  {
   "cell_type": "code",
   "execution_count": 12,
   "id": "3239dd56-0eb2-49b6-9b24-30b5e0848255",
   "metadata": {},
   "outputs": [
    {
     "name": "stdout",
     "output_type": "stream",
     "text": [
      "<FreqDist with 4679 samples and 15512 outcomes>\n"
     ]
    }
   ],
   "source": [
    "# Create a new FreqDist for filtered_words\n",
    "\n",
    "dist_words_filter = FreqDist(filtered_words)\n",
    "print(dist_words_filter)"
   ]
  },
  {
   "cell_type": "code",
   "execution_count": 13,
   "id": "929311cc-89ee-435e-95f8-5fec6757844c",
   "metadata": {},
   "outputs": [
    {
     "data": {
      "image/png": "[encoded data removed]",
      "text/plain": [
       "<Figure size 800x300 with 1 Axes>"
      ]
     },
     "metadata": {},
     "output_type": "display_data"
    }
   ],
   "source": [
    "# Frequency Distribution Plot\n",
    "\n",
    "plt.figure(figsize=(8, 3))\n",
    "dist_words_filter.plot(10, cumulative = False)\n",
    "plt.show()"
   ]
  },
  {
   "cell_type": "code",
   "execution_count": 14,
   "id": "5d2dc092-dcbf-46b8-8a9a-bf397cb57630",
   "metadata": {},
   "outputs": [
    {
     "data": {
      "text/plain": [
       "FreqDist({'.': 1285, ',': 990, '[': 303, ']': 303, 'The': 301, \"''\": 276, '``': 272, '(': 236, ')': 236, 'Retrieved': 205, ...})"
      ]
     },
     "execution_count": 14,
     "metadata": {},
     "output_type": "execute_result"
    }
   ],
   "source": [
    "# Viewing list\n",
    "dist_words_filter"
   ]
  },
  {
   "cell_type": "code",
   "execution_count": 15,
   "id": "08e0178c-b24a-47ab-8723-23b2920451c2",
   "metadata": {},
   "outputs": [],
   "source": [
    "# Remove all punctuation marks \n",
    "\n",
    "sans_punc = re.sub(\"[^a-zA-Z]\", \" \", str(filtered_words))"
   ]
  },
  {
   "cell_type": "code",
   "execution_count": 16,
   "id": "f6f109a9-6f87-4847-9499-3637111c938a",
   "metadata": {},
   "outputs": [
    {
     "name": "stdout",
     "output_type": "stream",
     "text": [
      "  Contents\n"
     ]
    }
   ],
   "source": [
    "# Viewing object \n",
    "print(sans_punc[:10])"
   ]
  },
  {
   "cell_type": "code",
   "execution_count": 17,
   "id": "7073649b-91ab-4729-a533-3c514194c7fc",
   "metadata": {},
   "outputs": [
    {
     "name": "stdout",
     "output_type": "stream",
     "text": [
      "['Contents', 'hide', 'Top']\n"
     ]
    }
   ],
   "source": [
    "# Word tokenization\n",
    "\n",
    "tokenized_word_2 = word_tokenize(sans_punc)\n",
    "print(tokenized_word_2[:3])"
   ]
  },
  {
   "cell_type": "code",
   "execution_count": 18,
   "id": "8592812e-ec3f-4e79-ab27-f6250d8af5ec",
   "metadata": {},
   "outputs": [],
   "source": [
    "# Create a new FreqDist\n",
    "\n",
    "dist_words_filter_2 = FreqDist(tokenized_word_2)"
   ]
  },
  {
   "cell_type": "code",
   "execution_count": 19,
   "id": "711368a8-9d9a-4404-b546-975f039ca96c",
   "metadata": {},
   "outputs": [
    {
     "data": {
      "image/png": "[encoded data removed]",
      "text/plain": [
       "<Figure size 800x300 with 1 Axes>"
      ]
     },
     "metadata": {},
     "output_type": "display_data"
    }
   ],
   "source": [
    "# Frequency Distribution Plot\n",
    "\n",
    "plt.figure(figsize=(8, 3))\n",
    "dist_words_filter_2.plot(10, cumulative = False)\n",
    "plt.show()"
   ]
  },
  {
   "cell_type": "markdown",
   "id": "66d29b8d-4cdf-4cc2-b330-9e11d231fd0c",
   "metadata": {},
   "source": [
    "Stop words are common words that don't provide much meaning on their own, such as \"the\" and \"a\". Punctuation marks also don't carry meaning. When I removed these, I can focus on the content words that carry the most meaning. This made it easier to see what the most important words in the text are."
   ]
  },
  {
   "cell_type": "code",
   "execution_count": 20,
   "id": "a2a3d536-61d8-4b9c-87ef-f23b70d53e37",
   "metadata": {
    "scrolled": true
   },
   "outputs": [
    {
     "data": {
      "text/plain": [
       "[('The', 310),\n",
       " ('Retrieved', 205),\n",
       " ('War', 124),\n",
       " ('s', 86),\n",
       " ('war', 86),\n",
       " ('World', 74),\n",
       " ('Soviet', 61),\n",
       " ('Hitler', 50),\n",
       " ('Germany', 43),\n",
       " ('History', 41),\n",
       " ('www', 39),\n",
       " ('ISBN', 39),\n",
       " ('first', 38),\n",
       " ('In', 37),\n",
       " ('world', 36),\n",
       " ('would', 35),\n",
       " ('Japanese', 35),\n",
       " ('German', 34),\n",
       " ('edit', 33),\n",
       " ('Japan', 33)]"
      ]
     },
     "execution_count": 20,
     "metadata": {},
     "output_type": "execute_result"
    }
   ],
   "source": [
    "# 20 most common words \n",
    "dist_words_filter_2.most_common(20)"
   ]
  },
  {
   "cell_type": "code",
   "execution_count": 21,
   "id": "683cc024-fd00-4eba-8e34-06df9c11f031",
   "metadata": {},
   "outputs": [],
   "source": [
    "# Assigning more stop words \n",
    "new_stopwords = ['The', 's', 'www', 'ISBN', 'In', 'would', 'edit', 'th']"
   ]
  },
  {
   "cell_type": "code",
   "execution_count": 22,
   "id": "3f242584-9d95-4dec-8fd1-6df30e5a3141",
   "metadata": {},
   "outputs": [],
   "source": [
    "# Filtering out stop words \n",
    "filtered = []\n",
    "for word in tokenized_word_2:\n",
    "    if word not in new_stopwords:\n",
    "        filtered.append(word)"
   ]
  },
  {
   "cell_type": "code",
   "execution_count": 23,
   "id": "c25582b7-c97d-4a66-a559-c97bcb5032c5",
   "metadata": {},
   "outputs": [
    {
     "name": "stdout",
     "output_type": "stream",
     "text": [
      "CPU times: user 445 µs, sys: 1 µs, total: 446 µs\n",
      "Wall time: 451 µs\n"
     ]
    }
   ],
   "source": [
    "# Creating textblob object \n",
    "%time text = TextBlob(' '.join(filtered))"
   ]
  },
  {
   "cell_type": "code",
   "execution_count": 24,
   "id": "88f59799-a4a1-4c0a-ba83-fba1276e2815",
   "metadata": {
    "scrolled": true
   },
   "outputs": [
    {
     "name": "stdout",
     "output_type": "stream",
     "text": [
      "Contents\n"
     ]
    }
   ],
   "source": [
    "# Viewing object \n",
    "print(text[:8])"
   ]
  },
  {
   "cell_type": "code",
   "execution_count": 25,
   "id": "557d5b5d-7f5d-40c7-af38-45981d54f9e9",
   "metadata": {},
   "outputs": [],
   "source": [
    "# Assigning tags to different words \n",
    "tags_list = text.tags"
   ]
  },
  {
   "cell_type": "code",
   "execution_count": 26,
   "id": "3132341f-fef3-416b-bc6a-7ddb1f83088d",
   "metadata": {
    "scrolled": true
   },
   "outputs": [
    {
     "name": "stdout",
     "output_type": "stream",
     "text": [
      "[('Contents', 'NNS'), ('hide', 'VBP'), ('Top', 'JJ')]\n"
     ]
    }
   ],
   "source": [
    "# Viewing tags \n",
    "print(tags_list[:3])"
   ]
  },
  {
   "cell_type": "code",
   "execution_count": 27,
   "id": "d890c9eb-9505-42e5-970c-bac0430c19e4",
   "metadata": {},
   "outputs": [],
   "source": [
    "# Storing tags in a data frame \n",
    "df_text = pd.DataFrame(tags_list)\n",
    "df_text.columns = ['Words', \"Word type\"]"
   ]
  },
  {
   "cell_type": "code",
   "execution_count": 28,
   "id": "7c71d1a5-a037-4c93-bff1-dbd59f9a1691",
   "metadata": {},
   "outputs": [
    {
     "data": {
      "text/html": [
       "<div>\n",
       "<style scoped>\n",
       "    .dataframe tbody tr th:only-of-type {\n",
       "        vertical-align: middle;\n",
       "    }\n",
       "\n",
       "    .dataframe tbody tr th {\n",
       "        vertical-align: top;\n",
       "    }\n",
       "\n",
       "    .dataframe thead th {\n",
       "        text-align: right;\n",
       "    }\n",
       "</style>\n",
       "<table border=\"1\" class=\"dataframe\">\n",
       "  <thead>\n",
       "    <tr style=\"text-align: right;\">\n",
       "      <th></th>\n",
       "      <th>Words</th>\n",
       "      <th>Word type</th>\n",
       "    </tr>\n",
       "  </thead>\n",
       "  <tbody>\n",
       "    <tr>\n",
       "      <th>0</th>\n",
       "      <td>Contents</td>\n",
       "      <td>NNS</td>\n",
       "    </tr>\n",
       "    <tr>\n",
       "      <th>1</th>\n",
       "      <td>hide</td>\n",
       "      <td>VBP</td>\n",
       "    </tr>\n",
       "    <tr>\n",
       "      <th>2</th>\n",
       "      <td>Top</td>\n",
       "      <td>JJ</td>\n",
       "    </tr>\n",
       "    <tr>\n",
       "      <th>3</th>\n",
       "      <td>Events</td>\n",
       "      <td>NNS</td>\n",
       "    </tr>\n",
       "    <tr>\n",
       "      <th>4</th>\n",
       "      <td>centuryToggle</td>\n",
       "      <td>JJ</td>\n",
       "    </tr>\n",
       "  </tbody>\n",
       "</table>\n",
       "</div>"
      ],
      "text/plain": [
       "           Words Word type\n",
       "0       Contents       NNS\n",
       "1           hide       VBP\n",
       "2            Top        JJ\n",
       "3         Events       NNS\n",
       "4  centuryToggle        JJ"
      ]
     },
     "execution_count": 28,
     "metadata": {},
     "output_type": "execute_result"
    }
   ],
   "source": [
    "# Viewing dataframe \n",
    "df_text.head()"
   ]
  },
  {
   "cell_type": "code",
   "execution_count": 29,
   "id": "8cabcc7e-4d90-4807-85e4-5243dd089355",
   "metadata": {},
   "outputs": [],
   "source": [
    "# Create a dictionary mapping POS tags to their full names\n",
    "pos_tag_names = {\n",
    "        'CC': 'Coordinating conjunction',\n",
    "        'CD': 'Cardinal number',\n",
    "        'DT': 'Determiner',\n",
    "        'EX': 'Existential there',\n",
    "        'FW': 'Foreign word',\n",
    "        'IN': 'Preposition or subordinating conjunction',\n",
    "        'JJ': 'Adjective',\n",
    "        'JJR': 'Adjective, comparative',\n",
    "        'JJS': 'Adjective, superlative',\n",
    "        'LS': 'List item marker',\n",
    "        'MD': 'Modal',\n",
    "        'NN': 'Noun, singular or mass',\n",
    "        'NNS': 'Noun, plural',\n",
    "        'NNP': 'Proper noun, singular',\n",
    "        'NNPS': 'Proper noun, plural',\n",
    "        'PDT': 'Predeterminer',\n",
    "        'POS': 'Possessive ending',\n",
    "        'PRP': 'Personal pronoun',\n",
    "        'PRP$': 'Possessive pronoun',\n",
    "        'RB': 'Adverb',\n",
    "        'RBR': 'Adverb, comparative',\n",
    "        'RBS': 'Adverb, superlative',\n",
    "        'RP': 'Particle',\n",
    "        'SYM': 'Symbol',\n",
    "        'TO': 'to',\n",
    "        'UH': 'Interjection',\n",
    "        'VB': 'Verb, base form',\n",
    "        'VBD': 'Verb, past tense',\n",
    "        'VBG': 'Verb, gerund or present participle',\n",
    "        'VBN': 'Verb, past participle',\n",
    "        'VBP': 'Verb, non-3rd person singular present',\n",
    "        'VBZ': 'Verb, 3rd person singular present',\n",
    "        'WDT': 'Wh-determiner',\n",
    "        'WP': 'Wh-pronoun',\n",
    "        'WP$': 'Possessive wh-pronoun',\n",
    "        'WRB': 'Wh-adverb'\n",
    "}"
   ]
  },
  {
   "cell_type": "code",
   "execution_count": 30,
   "id": "c8ae1c95-5237-4670-a681-47b576ff28ee",
   "metadata": {},
   "outputs": [],
   "source": [
    "# Add a new column named \"Name\" to the dataframe\n",
    "df_text[\"Name\"] = df_text[\"Word type\"].apply(lambda x: pos_tag_names.get(x))"
   ]
  },
  {
   "cell_type": "code",
   "execution_count": 31,
   "id": "fdc49685-d8c9-47e1-b61a-fdb5a117cde3",
   "metadata": {},
   "outputs": [
    {
     "data": {
      "text/html": [
       "<div>\n",
       "<style scoped>\n",
       "    .dataframe tbody tr th:only-of-type {\n",
       "        vertical-align: middle;\n",
       "    }\n",
       "\n",
       "    .dataframe tbody tr th {\n",
       "        vertical-align: top;\n",
       "    }\n",
       "\n",
       "    .dataframe thead th {\n",
       "        text-align: right;\n",
       "    }\n",
       "</style>\n",
       "<table border=\"1\" class=\"dataframe\">\n",
       "  <thead>\n",
       "    <tr style=\"text-align: right;\">\n",
       "      <th></th>\n",
       "      <th>Words</th>\n",
       "      <th>Word type</th>\n",
       "      <th>Name</th>\n",
       "    </tr>\n",
       "  </thead>\n",
       "  <tbody>\n",
       "    <tr>\n",
       "      <th>0</th>\n",
       "      <td>Contents</td>\n",
       "      <td>NNS</td>\n",
       "      <td>Noun, plural</td>\n",
       "    </tr>\n",
       "    <tr>\n",
       "      <th>1</th>\n",
       "      <td>hide</td>\n",
       "      <td>VBP</td>\n",
       "      <td>Verb, non-3rd person singular present</td>\n",
       "    </tr>\n",
       "    <tr>\n",
       "      <th>2</th>\n",
       "      <td>Top</td>\n",
       "      <td>JJ</td>\n",
       "      <td>Adjective</td>\n",
       "    </tr>\n",
       "    <tr>\n",
       "      <th>3</th>\n",
       "      <td>Events</td>\n",
       "      <td>NNS</td>\n",
       "      <td>Noun, plural</td>\n",
       "    </tr>\n",
       "    <tr>\n",
       "      <th>4</th>\n",
       "      <td>centuryToggle</td>\n",
       "      <td>JJ</td>\n",
       "      <td>Adjective</td>\n",
       "    </tr>\n",
       "  </tbody>\n",
       "</table>\n",
       "</div>"
      ],
      "text/plain": [
       "           Words Word type                                   Name\n",
       "0       Contents       NNS                           Noun, plural\n",
       "1           hide       VBP  Verb, non-3rd person singular present\n",
       "2            Top        JJ                              Adjective\n",
       "3         Events       NNS                           Noun, plural\n",
       "4  centuryToggle        JJ                              Adjective"
      ]
     },
     "execution_count": 31,
     "metadata": {},
     "output_type": "execute_result"
    }
   ],
   "source": [
    "df_text.head()"
   ]
  },
  {
   "cell_type": "code",
   "execution_count": 32,
   "id": "5e7b7c1c-5081-4960-940e-7070ab06ff37",
   "metadata": {},
   "outputs": [],
   "source": [
    "# Grouping df by word type \n",
    "df_t = df_text.groupby('Word type').count().reset_index()"
   ]
  },
  {
   "cell_type": "code",
   "execution_count": 33,
   "id": "07295114-a165-4790-886e-908fbbf99e0c",
   "metadata": {},
   "outputs": [
    {
     "data": {
      "text/html": [
       "<div>\n",
       "<style scoped>\n",
       "    .dataframe tbody tr th:only-of-type {\n",
       "        vertical-align: middle;\n",
       "    }\n",
       "\n",
       "    .dataframe tbody tr th {\n",
       "        vertical-align: top;\n",
       "    }\n",
       "\n",
       "    .dataframe thead th {\n",
       "        text-align: right;\n",
       "    }\n",
       "</style>\n",
       "<table border=\"1\" class=\"dataframe\">\n",
       "  <thead>\n",
       "    <tr style=\"text-align: right;\">\n",
       "      <th></th>\n",
       "      <th>Word type</th>\n",
       "      <th>Words</th>\n",
       "      <th>Name</th>\n",
       "    </tr>\n",
       "  </thead>\n",
       "  <tbody>\n",
       "    <tr>\n",
       "      <th>0</th>\n",
       "      <td>CC</td>\n",
       "      <td>10</td>\n",
       "      <td>10</td>\n",
       "    </tr>\n",
       "    <tr>\n",
       "      <th>1</th>\n",
       "      <td>CD</td>\n",
       "      <td>62</td>\n",
       "      <td>62</td>\n",
       "    </tr>\n",
       "    <tr>\n",
       "      <th>2</th>\n",
       "      <td>DT</td>\n",
       "      <td>46</td>\n",
       "      <td>46</td>\n",
       "    </tr>\n",
       "    <tr>\n",
       "      <th>3</th>\n",
       "      <td>EX</td>\n",
       "      <td>3</td>\n",
       "      <td>3</td>\n",
       "    </tr>\n",
       "    <tr>\n",
       "      <th>4</th>\n",
       "      <td>FW</td>\n",
       "      <td>9</td>\n",
       "      <td>9</td>\n",
       "    </tr>\n",
       "  </tbody>\n",
       "</table>\n",
       "</div>"
      ],
      "text/plain": [
       "  Word type  Words  Name\n",
       "0        CC     10    10\n",
       "1        CD     62    62\n",
       "2        DT     46    46\n",
       "3        EX      3     3\n",
       "4        FW      9     9"
      ]
     },
     "execution_count": 33,
     "metadata": {},
     "output_type": "execute_result"
    }
   ],
   "source": [
    "# Viewing df \n",
    "df_t.head()"
   ]
  },
  {
   "cell_type": "code",
   "execution_count": 34,
   "id": "1a589fb4-acd6-4ed6-94af-661a88bbb60a",
   "metadata": {},
   "outputs": [],
   "source": [
    "# Viewing 10 largest tags \n",
    "top10 = df_t.nlargest(10, 'Words')"
   ]
  },
  {
   "cell_type": "code",
   "execution_count": 35,
   "id": "3c135a61-9548-4439-ac61-43762d458e87",
   "metadata": {},
   "outputs": [
    {
     "data": {
      "image/png": "[encoded data removed]",
      "text/plain": [
       "<Figure size 1000x500 with 1 Axes>"
      ]
     },
     "metadata": {},
     "output_type": "display_data"
    }
   ],
   "source": [
    "# Plotting tags \n",
    "plt.figure(figsize = (10, 5))\n",
    "with sns.dark_palette(\"xkcd:blue\", 10):\n",
    "    sns.barplot(x = \"Words\", y = \"Word type\",\n",
    "    saturation = 0.9, data = top10).set_title(\"20th Century Events - top 10 word types used\")\n",
    "# Adding values to the bars\n",
    "for index, value in enumerate(top10[\"Words\"]):  # Assuming \"Word count\" is the column containing the values for the bars\n",
    "    plt.text(value, index, str(value), ha='left', va='center')  # Specify the x-coordinate for the text annotations\n",
    "plt.show()"
   ]
  },
  {
   "cell_type": "code",
   "execution_count": 36,
   "id": "a172ee51-504a-443d-a3e9-d91cfd40a0e9",
   "metadata": {},
   "outputs": [],
   "source": [
    "# Assigning these categories as nouns \n",
    "df = df_text[(df_text['Word type'] == \"NN\") | (df_text['Word type'] == \"NNS\") | (df_text['Word type'] == \"NNP\")]\n",
    "df.columns = [\"Word\", \"Occurences\", \"Name\"]\n",
    "x = df.groupby('Word').count().reset_index()\n",
    "y = x.sort_values(by = ['Occurences'], ascending=False)\n",
    "top15n = y.nlargest(15, 'Occurences')"
   ]
  },
  {
   "cell_type": "code",
   "execution_count": 37,
   "id": "37f4e5be-8531-457f-8274-f8bc66c0f6e4",
   "metadata": {},
   "outputs": [
    {
     "data": {
      "text/html": [
       "<div>\n",
       "<style scoped>\n",
       "    .dataframe tbody tr th:only-of-type {\n",
       "        vertical-align: middle;\n",
       "    }\n",
       "\n",
       "    .dataframe tbody tr th {\n",
       "        vertical-align: top;\n",
       "    }\n",
       "\n",
       "    .dataframe thead th {\n",
       "        text-align: right;\n",
       "    }\n",
       "</style>\n",
       "<table border=\"1\" class=\"dataframe\">\n",
       "  <thead>\n",
       "    <tr style=\"text-align: right;\">\n",
       "      <th></th>\n",
       "      <th>Word</th>\n",
       "      <th>Occurences</th>\n",
       "      <th>Name</th>\n",
       "    </tr>\n",
       "  </thead>\n",
       "  <tbody>\n",
       "    <tr>\n",
       "      <th>1234</th>\n",
       "      <td>Retrieved</td>\n",
       "      <td>188</td>\n",
       "      <td>188</td>\n",
       "    </tr>\n",
       "    <tr>\n",
       "      <th>1550</th>\n",
       "      <td>War</td>\n",
       "      <td>124</td>\n",
       "      <td>124</td>\n",
       "    </tr>\n",
       "    <tr>\n",
       "      <th>2639</th>\n",
       "      <td>war</td>\n",
       "      <td>86</td>\n",
       "      <td>86</td>\n",
       "    </tr>\n",
       "    <tr>\n",
       "      <th>1596</th>\n",
       "      <td>World</td>\n",
       "      <td>74</td>\n",
       "      <td>74</td>\n",
       "    </tr>\n",
       "    <tr>\n",
       "      <th>665</th>\n",
       "      <td>Hitler</td>\n",
       "      <td>50</td>\n",
       "      <td>50</td>\n",
       "    </tr>\n",
       "    <tr>\n",
       "      <th>587</th>\n",
       "      <td>Germany</td>\n",
       "      <td>43</td>\n",
       "      <td>43</td>\n",
       "    </tr>\n",
       "    <tr>\n",
       "      <th>1354</th>\n",
       "      <td>Soviet</td>\n",
       "      <td>42</td>\n",
       "      <td>42</td>\n",
       "    </tr>\n",
       "    <tr>\n",
       "      <th>663</th>\n",
       "      <td>History</td>\n",
       "      <td>41</td>\n",
       "      <td>41</td>\n",
       "    </tr>\n",
       "    <tr>\n",
       "      <th>2664</th>\n",
       "      <td>world</td>\n",
       "      <td>36</td>\n",
       "      <td>36</td>\n",
       "    </tr>\n",
       "    <tr>\n",
       "      <th>766</th>\n",
       "      <td>Japan</td>\n",
       "      <td>33</td>\n",
       "      <td>33</td>\n",
       "    </tr>\n",
       "    <tr>\n",
       "      <th>1770</th>\n",
       "      <td>century</td>\n",
       "      <td>32</td>\n",
       "      <td>32</td>\n",
       "    </tr>\n",
       "    <tr>\n",
       "      <th>1507</th>\n",
       "      <td>Union</td>\n",
       "      <td>31</td>\n",
       "      <td>31</td>\n",
       "    </tr>\n",
       "    <tr>\n",
       "      <th>1043</th>\n",
       "      <td>New</td>\n",
       "      <td>31</td>\n",
       "      <td>31</td>\n",
       "    </tr>\n",
       "    <tr>\n",
       "      <th>1508</th>\n",
       "      <td>United</td>\n",
       "      <td>30</td>\n",
       "      <td>30</td>\n",
       "    </tr>\n",
       "    <tr>\n",
       "      <th>698</th>\n",
       "      <td>ISSN</td>\n",
       "      <td>30</td>\n",
       "      <td>30</td>\n",
       "    </tr>\n",
       "  </tbody>\n",
       "</table>\n",
       "</div>"
      ],
      "text/plain": [
       "           Word  Occurences  Name\n",
       "1234  Retrieved         188   188\n",
       "1550        War         124   124\n",
       "2639        war          86    86\n",
       "1596      World          74    74\n",
       "665      Hitler          50    50\n",
       "587     Germany          43    43\n",
       "1354     Soviet          42    42\n",
       "663     History          41    41\n",
       "2664      world          36    36\n",
       "766       Japan          33    33\n",
       "1770    century          32    32\n",
       "1507      Union          31    31\n",
       "1043        New          31    31\n",
       "1508     United          30    30\n",
       "698        ISSN          30    30"
      ]
     },
     "execution_count": 37,
     "metadata": {},
     "output_type": "execute_result"
    }
   ],
   "source": [
    "# Viewing nouns \n",
    "top15n"
   ]
  },
  {
   "cell_type": "code",
   "execution_count": 38,
   "id": "81d882f6-f4d6-4ffc-a0e6-d4d809d5d0ad",
   "metadata": {},
   "outputs": [
    {
     "data": {
      "image/png": "[encoded data removed]",
      "text/plain": [
       "<Figure size 1000x500 with 1 Axes>"
      ]
     },
     "metadata": {},
     "output_type": "display_data"
    }
   ],
   "source": [
    "# Plotting nouns\n",
    "plt.figure(figsize=(10, 5))\n",
    "with sns.dark_palette(\"xkcd:blue\", 15):\n",
    "    sns.barplot(x=\"Word\", y=\"Occurences\",\n",
    "    saturation=0.9, data = top15n).set_title(\"20th Century Events - most frequently used nouns\")\n",
    "# Adding values to the bars\n",
    "for index, value in enumerate(top15n[\"Occurences\"]):\n",
    "    plt.text(index, value, str(value), ha='center', va='bottom', fontsize=8)\n",
    "plt.show()"
   ]
  },
  {
   "cell_type": "code",
   "execution_count": 39,
   "id": "ffceefe2-1a3b-43e4-a3ec-603d1d94032b",
   "metadata": {},
   "outputs": [],
   "source": [
    "# Assigning categories as verbs \n",
    "df = df_text[(df_text['Word type'] == \"VB\")  | (df_text['Word type'] == \"VBD\")]\n",
    "df.columns = [\"Word\", \"Occurences\", \"Name\"]\n",
    "x = df.groupby('Word').count().reset_index()\n",
    "y = x.sort_values(by = ['Occurences'], ascending=False)\n",
    "top15v = y.nlargest(15, 'Occurences')"
   ]
  },
  {
   "cell_type": "code",
   "execution_count": 40,
   "id": "52c83cbf-3d05-46f7-971d-1419d47d2022",
   "metadata": {},
   "outputs": [
    {
     "data": {
      "text/html": [
       "<div>\n",
       "<style scoped>\n",
       "    .dataframe tbody tr th:only-of-type {\n",
       "        vertical-align: middle;\n",
       "    }\n",
       "\n",
       "    .dataframe tbody tr th {\n",
       "        vertical-align: top;\n",
       "    }\n",
       "\n",
       "    .dataframe thead th {\n",
       "        text-align: right;\n",
       "    }\n",
       "</style>\n",
       "<table border=\"1\" class=\"dataframe\">\n",
       "  <thead>\n",
       "    <tr style=\"text-align: right;\">\n",
       "      <th></th>\n",
       "      <th>Word</th>\n",
       "      <th>Occurences</th>\n",
       "      <th>Name</th>\n",
       "    </tr>\n",
       "  </thead>\n",
       "  <tbody>\n",
       "    <tr>\n",
       "      <th>49</th>\n",
       "      <td>became</td>\n",
       "      <td>27</td>\n",
       "      <td>27</td>\n",
       "    </tr>\n",
       "    <tr>\n",
       "      <th>205</th>\n",
       "      <td>led</td>\n",
       "      <td>14</td>\n",
       "      <td>14</td>\n",
       "    </tr>\n",
       "    <tr>\n",
       "      <th>51</th>\n",
       "      <td>began</td>\n",
       "      <td>13</td>\n",
       "      <td>13</td>\n",
       "    </tr>\n",
       "    <tr>\n",
       "      <th>203</th>\n",
       "      <td>launched</td>\n",
       "      <td>12</td>\n",
       "      <td>12</td>\n",
       "    </tr>\n",
       "    <tr>\n",
       "      <th>63</th>\n",
       "      <td>came</td>\n",
       "      <td>12</td>\n",
       "      <td>12</td>\n",
       "    </tr>\n",
       "    <tr>\n",
       "      <th>13</th>\n",
       "      <td>Retrieved</td>\n",
       "      <td>11</td>\n",
       "      <td>11</td>\n",
       "    </tr>\n",
       "    <tr>\n",
       "      <th>213</th>\n",
       "      <td>made</td>\n",
       "      <td>10</td>\n",
       "      <td>10</td>\n",
       "    </tr>\n",
       "    <tr>\n",
       "      <th>334</th>\n",
       "      <td>took</td>\n",
       "      <td>7</td>\n",
       "      <td>7</td>\n",
       "    </tr>\n",
       "    <tr>\n",
       "      <th>69</th>\n",
       "      <td>changed</td>\n",
       "      <td>7</td>\n",
       "      <td>7</td>\n",
       "    </tr>\n",
       "    <tr>\n",
       "      <th>337</th>\n",
       "      <td>turned</td>\n",
       "      <td>7</td>\n",
       "      <td>7</td>\n",
       "    </tr>\n",
       "    <tr>\n",
       "      <th>326</th>\n",
       "      <td>surrendered</td>\n",
       "      <td>7</td>\n",
       "      <td>7</td>\n",
       "    </tr>\n",
       "    <tr>\n",
       "      <th>85</th>\n",
       "      <td>controlled</td>\n",
       "      <td>7</td>\n",
       "      <td>7</td>\n",
       "    </tr>\n",
       "    <tr>\n",
       "      <th>225</th>\n",
       "      <td>occupied</td>\n",
       "      <td>6</td>\n",
       "      <td>6</td>\n",
       "    </tr>\n",
       "    <tr>\n",
       "      <th>162</th>\n",
       "      <td>forced</td>\n",
       "      <td>6</td>\n",
       "      <td>6</td>\n",
       "    </tr>\n",
       "    <tr>\n",
       "      <th>340</th>\n",
       "      <td>used</td>\n",
       "      <td>6</td>\n",
       "      <td>6</td>\n",
       "    </tr>\n",
       "  </tbody>\n",
       "</table>\n",
       "</div>"
      ],
      "text/plain": [
       "            Word  Occurences  Name\n",
       "49        became          27    27\n",
       "205          led          14    14\n",
       "51         began          13    13\n",
       "203     launched          12    12\n",
       "63          came          12    12\n",
       "13     Retrieved          11    11\n",
       "213         made          10    10\n",
       "334         took           7     7\n",
       "69       changed           7     7\n",
       "337       turned           7     7\n",
       "326  surrendered           7     7\n",
       "85    controlled           7     7\n",
       "225     occupied           6     6\n",
       "162       forced           6     6\n",
       "340         used           6     6"
      ]
     },
     "execution_count": 40,
     "metadata": {},
     "output_type": "execute_result"
    }
   ],
   "source": [
    "# Viewing verbs \n",
    "top15v"
   ]
  },
  {
   "cell_type": "code",
   "execution_count": 41,
   "id": "5ab8920d-9941-4166-b498-d1d1e11b16fa",
   "metadata": {},
   "outputs": [
    {
     "data": {
      "image/png": "[encoded data removed]",
      "text/plain": [
       "<Figure size 1500x500 with 1 Axes>"
      ]
     },
     "metadata": {},
     "output_type": "display_data"
    }
   ],
   "source": [
    "# Plotting verbs \n",
    "plt.figure(figsize = (15, 5))\n",
    "with sns.dark_palette(\"xkcd:blue\", 15):\n",
    "    sns.barplot(x = \"Word\", y = \"Occurences\",\n",
    "    saturation = 0.9, data = top15v).set_title(\"20th Century Events - most frequently used verbs\")\n",
    "# Adding values to the bars\n",
    "for index, value in enumerate(top15v[\"Occurences\"]):\n",
    "    plt.text(index, value, str(value), ha='center', va='bottom', fontsize=8)\n",
    "plt.show()"
   ]
  },
  {
   "cell_type": "code",
   "execution_count": 42,
   "id": "b07d86dc-b3f9-4350-be02-2b04319f6dd7",
   "metadata": {},
   "outputs": [],
   "source": [
    "# Assigning category to adjectives\n",
    "df = df_text[df_text['Word type'] == \"JJ\"]\n",
    "df.columns = [\"Word\", \"Occurences\", \"Name\"]\n",
    "x = df.groupby('Word').count().reset_index()\n",
    "y = x.sort_values(by=['Occurences'], ascending=False)\n",
    "top15a = y.nlargest(15, 'Occurences')"
   ]
  },
  {
   "cell_type": "code",
   "execution_count": 43,
   "id": "b9f04126-d3b2-4952-9ee1-b8015c439fcb",
   "metadata": {},
   "outputs": [
    {
     "data": {
      "text/html": [
       "<div>\n",
       "<style scoped>\n",
       "    .dataframe tbody tr th:only-of-type {\n",
       "        vertical-align: middle;\n",
       "    }\n",
       "\n",
       "    .dataframe tbody tr th {\n",
       "        vertical-align: top;\n",
       "    }\n",
       "\n",
       "    .dataframe thead th {\n",
       "        text-align: right;\n",
       "    }\n",
       "</style>\n",
       "<table border=\"1\" class=\"dataframe\">\n",
       "  <thead>\n",
       "    <tr style=\"text-align: right;\">\n",
       "      <th></th>\n",
       "      <th>Word</th>\n",
       "      <th>Occurences</th>\n",
       "      <th>Name</th>\n",
       "    </tr>\n",
       "  </thead>\n",
       "  <tbody>\n",
       "    <tr>\n",
       "      <th>28</th>\n",
       "      <td>Japanese</td>\n",
       "      <td>26</td>\n",
       "      <td>26</td>\n",
       "    </tr>\n",
       "    <tr>\n",
       "      <th>355</th>\n",
       "      <td>nuclear</td>\n",
       "      <td>26</td>\n",
       "      <td>26</td>\n",
       "    </tr>\n",
       "    <tr>\n",
       "      <th>21</th>\n",
       "      <td>German</td>\n",
       "      <td>26</td>\n",
       "      <td>26</td>\n",
       "    </tr>\n",
       "    <tr>\n",
       "      <th>347</th>\n",
       "      <td>new</td>\n",
       "      <td>22</td>\n",
       "      <td>22</td>\n",
       "    </tr>\n",
       "    <tr>\n",
       "      <th>53</th>\n",
       "      <td>Soviet</td>\n",
       "      <td>19</td>\n",
       "      <td>19</td>\n",
       "    </tr>\n",
       "    <tr>\n",
       "      <th>218</th>\n",
       "      <td>first</td>\n",
       "      <td>19</td>\n",
       "      <td>19</td>\n",
       "    </tr>\n",
       "    <tr>\n",
       "      <th>322</th>\n",
       "      <td>many</td>\n",
       "      <td>19</td>\n",
       "      <td>19</td>\n",
       "    </tr>\n",
       "    <tr>\n",
       "      <th>2</th>\n",
       "      <td>American</td>\n",
       "      <td>18</td>\n",
       "      <td>18</td>\n",
       "    </tr>\n",
       "    <tr>\n",
       "      <th>184</th>\n",
       "      <td>economic</td>\n",
       "      <td>12</td>\n",
       "      <td>12</td>\n",
       "    </tr>\n",
       "    <tr>\n",
       "      <th>6</th>\n",
       "      <td>British</td>\n",
       "      <td>12</td>\n",
       "      <td>12</td>\n",
       "    </tr>\n",
       "    <tr>\n",
       "      <th>320</th>\n",
       "      <td>major</td>\n",
       "      <td>11</td>\n",
       "      <td>11</td>\n",
       "    </tr>\n",
       "    <tr>\n",
       "      <th>435</th>\n",
       "      <td>several</td>\n",
       "      <td>10</td>\n",
       "      <td>10</td>\n",
       "    </tr>\n",
       "    <tr>\n",
       "      <th>368</th>\n",
       "      <td>original</td>\n",
       "      <td>10</td>\n",
       "      <td>10</td>\n",
       "    </tr>\n",
       "    <tr>\n",
       "      <th>181</th>\n",
       "      <td>early</td>\n",
       "      <td>9</td>\n",
       "      <td>9</td>\n",
       "    </tr>\n",
       "    <tr>\n",
       "      <th>327</th>\n",
       "      <td>military</td>\n",
       "      <td>9</td>\n",
       "      <td>9</td>\n",
       "    </tr>\n",
       "  </tbody>\n",
       "</table>\n",
       "</div>"
      ],
      "text/plain": [
       "         Word  Occurences  Name\n",
       "28   Japanese          26    26\n",
       "355   nuclear          26    26\n",
       "21     German          26    26\n",
       "347       new          22    22\n",
       "53     Soviet          19    19\n",
       "218     first          19    19\n",
       "322      many          19    19\n",
       "2    American          18    18\n",
       "184  economic          12    12\n",
       "6     British          12    12\n",
       "320     major          11    11\n",
       "435   several          10    10\n",
       "368  original          10    10\n",
       "181     early           9     9\n",
       "327  military           9     9"
      ]
     },
     "execution_count": 43,
     "metadata": {},
     "output_type": "execute_result"
    }
   ],
   "source": [
    "# Viewing adjective \n",
    "top15a"
   ]
  },
  {
   "cell_type": "code",
   "execution_count": 44,
   "id": "20558175-9db6-49b3-9167-e50874d1dafe",
   "metadata": {},
   "outputs": [
    {
     "data": {
      "image/png": "[encoded data removed]",
      "text/plain": [
       "<Figure size 1500x500 with 1 Axes>"
      ]
     },
     "metadata": {},
     "output_type": "display_data"
    }
   ],
   "source": [
    "# Plotting adjective \n",
    "plt.figure(figsize=(15, 5))\n",
    "with sns.dark_palette(\"xkcd:blue\", 15):\n",
    "    sns.barplot(x=\"Word\", y=\"Occurences\",\n",
    "    saturation=0.9, data=top15a).set_title(\"20th Century Events - most frequently used adjectives\")\n",
    "# Adding values to the bars\n",
    "for index, value in enumerate(top15a[\"Occurences\"]):\n",
    "    plt.text(index, value, str(value), ha='center', va='bottom', fontsize=8)\n",
    "plt.show()"
   ]
  },
  {
   "cell_type": "markdown",
   "id": "442432d9-5590-46a8-9911-e3176e26f6b6",
   "metadata": {},
   "source": [
    "The word \"war\" stands out the most in the noun graph. This is because war is a significant event that happened multiple times throughout the 20th century. \n",
    "In additon, the word \"Japanese\" is mentioned a lot because of their major participation in world war II during the 20th century."
   ]
  },
  {
   "cell_type": "code",
   "execution_count": 45,
   "id": "bbcd7001-59cf-4402-89ac-3e58aa2cc641",
   "metadata": {
    "scrolled": true
   },
   "outputs": [
    {
     "name": "stdout",
     "output_type": "stream",
     "text": [
      "Contents h\n"
     ]
    }
   ],
   "source": [
    "# Contains words from the text \n",
    "listToStr = ' '.join(filtered)\n",
    " \n",
    "print(listToStr[:10])"
   ]
  },
  {
   "cell_type": "code",
   "execution_count": 46,
   "id": "6031dca1-48dc-4138-aca6-30b0eb1e1d30",
   "metadata": {},
   "outputs": [],
   "source": [
    "# Create a count for each word \n",
    "\n",
    "all_counts = Counter(re.sub(r'\\W+', ' ', listToStr).lower().split())"
   ]
  },
  {
   "cell_type": "code",
   "execution_count": 47,
   "id": "39b4d4e0-d943-4400-9491-d142a3f97970",
   "metadata": {},
   "outputs": [
    {
     "name": "stdout",
     "output_type": "stream",
     "text": [
      "Counter({'war': 211, 'retrieved': 205, 'world': 110, 'history': 74, 'soviet': 62, 'new': 53, 'first': 51, 'hitler': 50, 'germany': 43, 'battle': 39, 'nuclear': 39, 'century': 38, 'states': 35, 'japanese': 35, 'german': 34, 'japan': 33, 'germans': 32, 'union': 32, 'united': 30, 's': 30, 'issn': 30, 'ii': 29, 'com': 29, 'space': 28, 'europe': 28, 'also': 28, 'weapons': 28, 'became': 27, 'a': 27, 'u': 26, 'end': 25, 'nations': 25, 'many': 25, 'american': 24, 'army': 24, 'computer': 24, 'attack': 23, 'this': 22, 'countries': 21, 'main': 21, 'stalin': 21, 'one': 21, 'holocaust': 21, 'second': 21, 'p': 21, 'north': 21, 'africa': 21, 'bbc': 21, 'allies': 20, 'british': 20, 'allied': 20, 'state': 19, 'forces': 19, 'however': 19, 'people': 19, 'two': 19, 'nazi': 19, 'britain': 19, 'invasion': 19, 'day': 19, 'july': 19, 'later': 18, 'could': 18, 'east': 18, 'september': 18, 'june': 18, 'great': 17, 'time': 17, 'jews': 17, 'august': 17, 'may': 17, 'wars': 16, 'cold': 16, 'france': 16, 'april': 16, 'on': 16, 'october': 16, 'internet': 16, 'press': 16, 'how': 16, 'led': 15, 'known': 15, 'italy': 15, 'south': 15, 'government': 15, 'economic': 15, 'air': 15, 'berlin': 15, 'december': 15, 'national': 15, 'doi': 15, 'york': 15, 'free': 14, 'article': 14, 'power': 14, 'military': 14, 'international': 14, 'early': 14, 'began': 14, 'operation': 14, 'pacific': 14, 'from': 13, 'major': 13, 'came': 13, 'treaty': 13, 'used': 13, 'years': 13, 'imperial': 13, 'crisis': 13, 'general': 13, 'made': 13, 'rise': 13, 'poland': 13, 'atlantic': 13, 'vietnam': 13, 'archived': 13, 'troops': 12, 'news': 12, 'days': 12, 'use': 12, 'launched': 12, 'despite': 12, 'us': 12, 'atomic': 11, 'it': 11, 'eastern': 11, 'western': 11, 'communist': 11, 'force': 11, 'pact': 11, 'after': 11, 'french': 11, 'bomb': 11, 'several': 11, 'by': 11, 'naval': 11, 'west': 11, 'island': 11, 'surrender': 11, 'computers': 11, 'richard': 11, 'gov': 11, 'university': 11, 'org': 11, 'including': 10, 'organization': 10, 'russia': 10, 'powers': 10, 'independence': 10, 'see': 10, 'post': 10, 'almost': 10, 'campaign': 10, 'largest': 10, 'offensive': 10, 'v': 10, 'november': 10, 'china': 10, 'camps': 10, 'project': 10, 'times': 10, 'peace': 10, 'john': 10, 'software': 10, 'why': 10, 'uk': 10, 'original': 10, 'guardian': 10, 'empire': 9, 'fall': 9, 'aircraft': 9, 'warfare': 9, 'next': 9, 'communism': 9, 'european': 9, 'system': 9, 'political': 9, 'mussolini': 9, 'attacks': 9, 'sea': 9, 'million': 9, 'launch': 9, 'non': 9, 'network': 9, 'controlled': 9, 'churchill': 9, 'last': 9, 'india': 9, 'year': 9, 'korea': 9, 'museums': 9, 'and': 9, 'events': 8, 'changed': 8, 'creation': 8, 'i': 8, 'central': 8, 'forced': 8, 'like': 8, 'among': 8, 'revolution': 8, 'joseph': 8, 'plan': 8, 'battles': 8, 'part': 8, 'territory': 8, 'three': 8, 'third': 8, 'independent': 8, 'nazis': 8, 'planned': 8, 'city': 8, 'february': 8, 'influence': 8, 'human': 8, 'islands': 8, 'death': 8, 'korean': 8, 'foundation': 8, 'online': 8, 'january': 8, 'was': 8, 'race': 7, 'created': 7, 'beginning': 7, 'although': 7, 'advance': 7, 'since': 7, 'form': 7, 'set': 7, 'groups': 7, 'country': 7, 'even': 7, 'global': 7, 'development': 7, 'fascism': 7, 'large': 7, 'took': 7, 'he': 7, 'ussr': 7, 'winter': 7, 'defeat': 7, 'surrendered': 7, 'throughout': 7, 'with': 7, 'turned': 7, 'eventually': 7, 'bombing': 7, 'b': 7, 'already': 7, 'rommel': 7, 'place': 7, 'long': 7, 'chinese': 7, 'macarthur': 7, 'home': 7, 'robert': 7, 'systems': 7, 'michael': 7, 'ssr': 7, 'video': 7, 'pc': 7, 'company': 7, 'networks': 7, 'interest': 7, 'cid': 7, 'publishing': 7, 'caused': 6, 'powerful': 6, 'following': 6, 'ended': 6, 'attacked': 6, 'occupied': 6, 'much': 6, 'upon': 6, 'league': 6, 'within': 6, 'de': 6, 'rule': 6, 'well': 6, 'depression': 6, 'capitalist': 6, 'articles': 6, 'they': 6, 'area': 6, 'conference': 6, 'held': 6, 'moscow': 6, 'secret': 6, 'massive': 6, 'important': 6, 'paris': 6, 'at': 6, 'suffered': 6, 'turn': 6, 'weapon': 6, 'group': 6, 'victory': 6, 'leading': 6, 'man': 6, 'still': 6, 'another': 6, 'e': 6, 'march': 6, 'occupation': 6, 'asia': 6, 'station': 6, 'terms': 6, 'nation': 6, 'concentration': 6, 'knew': 6, 'program': 6, 'african': 6, 'behind': 6, 'cuban': 6, 'missile': 6, 'information': 6, 'ibm': 6, 'encyclopedia': 6, 'co': 6, 'what': 6, 'journal': 6, 'research': 6, 'lives': 5, 'st': 5, 'today': 5, 'marked': 5, 'started': 5, 'incident': 5, 'help': 5, 'small': 5, 'austria': 5, 'cost': 5, 'baltic': 5, 'boats': 5, 'tank': 5, 'advances': 5, 'division': 5, 'finally': 5, 'back': 5, 'never': 5, 'yugoslavia': 5, 'czechoslovakia': 5, 'russian': 5, 'ending': 5, 'leader': 5, 'idea': 5, 'strong': 5, 'between': 5, 'become': 5, 'market': 5, 'little': 5, 'soldiers': 5, 'business': 5, 'population': 5, 'put': 5, 'civil': 5, 'control': 5, 'soon': 5, 'change': 5, 'republics': 5, 'norway': 5, 'four': 5, 'refused': 5, 'managed': 5, 'italians': 5, 'taking': 5, 'turning': 5, 'using': 5, 'modern': 5, 'number': 5, 'signed': 5, 'divided': 5, 'libya': 5, 'axis': 5, 'pearl': 5, 'harbor': 5, 'n': 5, 'ground': 5, 'victories': 5, 'followed': 5, 'invaded': 5, 'half': 5, 'continued': 5, 'd': 5, 'possible': 5, 'site': 5, 'final': 5, 'newly': 5, 'yalta': 5, 'went': 5, 'conflict': 5, 'cities': 5, 'philippines': 5, 'foreign': 5, 'strategic': 5, 'tokyo': 5, 'killed': 5, 'okinawa': 5, 'president': 5, 'develop': 5, 'efforts': 5, 'developed': 5, 'decolonization': 5, 'involved': 5, 'decades': 5, 'apollo': 5, 'problem': 5, 'office': 5, 'games': 5, 'archives': 5, 'politics': 5, 'daniel': 5, 'museum': 5, 'david': 5, 'pp': 5, 'forgotten': 5, 'house': 5, 'heritage': 5, 'w': 5, 'story': 5, 'based': 4, 'web': 4, 'these': 4, 'saw': 4, 'movement': 4, 'especially': 4, 'test': 4, 'short': 4, 'sign': 4, 'future': 4, 'ethnic': 4, 'former': 4, 'an': 4, 'called': 4, 'limited': 4, 'regime': 4, 'socialist': 4, 'economy': 4, 'solution': 4, 'remained': 4, 'warning': 4, 'leadership': 4, 'often': 4, 'ordinary': 4, 'intervention': 4, 'needed': 4, 'society': 4, 'rest': 4, 'dictatorship': 4, 'says': 4, 'threat': 4, 'adolf': 4, 'take': 4, 'worst': 4, 'declared': 4, 'weeks': 4, 'london': 4, 'strategy': 4, 'finland': 4, 'hoped': 4, 'action': 4, 'land': 4, 'low': 4, 'considered': 4, 'entire': 4, 'g': 4, 'luftwaffe': 4, 'core': 4, 'greece': 4, 'losses': 4, 'radar': 4, 'quickly': 4, 'taken': 4, 'coup': 4, 'personal': 4, 'present': 4, 'italian': 4, 'middle': 4, 'iran': 4, 'stalingrad': 4, 'way': 4, 'assured': 4, 't': 4, 'prisoners': 4, 'captured': 4, 'soviets': 4, 'casualties': 4, 'fight': 4, 'lost': 4, 'winston': 4, 'though': 4, 'republic': 4, 'described': 4, 'america': 4, 'range': 4, 'know': 4, 'propaganda': 4, 'bloodiest': 4, 'devastating': 4, 'commander': 4, 'suicide': 4, 'iron': 4, 'curtain': 4, 'manchuria': 4, 'manchukuo': 4, 'relations': 4, 'sino': 4, 'conflicts': 4, 'base': 4, 'guinea': 4, 'douglas': 4, 'australian': 4, 'midway': 4, 'attacking': 4, 'given': 4, 'gulf': 4, 'achieved': 4, 'iwo': 4, 'jima': 4, 'historians': 4, 'center': 4, 'lead': 4, 'fire': 4, 'destruction': 4, 'hiroshima': 4, 'nagasaki': 4, 'borders': 4, 'medical': 4, 'nuremberg': 4, 'areas': 4, 'age': 4, 'manhattan': 4, 'close': 4, 'success': 4, 'brought': 4, 'rapidly': 4, 'proliferation': 4, 'pakistan': 4, 'israel': 4, 'crimes': 4, 'formation': 4, 'backed': 4, 'along': 4, 'nixon': 4, 'moon': 4, 'astronauts': 4, 'spacecraft': 4, 'technology': 4, 'memory': 4, 'mark': 4, 'bulletin': 4, 'commercial': 4, 'tim': 4, 'geographic': 4, 'k': 4, 'anti': 4, 'need': 4, 'timeline': 4, 'to': 4, 'brian': 4, 'learning': 4, 'during': 4, 'archive': 4, 'l': 4, 'facts': 4, 'of': 4, 'ago': 4, 'johnson': 4, 'pmid': 4, 'vol': 4, 'science': 4, 'top': 3, 'bombs': 3, 'wide': 3, 'changes': 3, 'decade': 3, 'empires': 3, 'sarajevo': 3, 'assassination': 3, 'franz': 3, 'young': 3, 'increasing': 3, 'arms': 3, 'old': 3, 'initially': 3, 'hungary': 3, 'unable': 3, 'machine': 3, 'sides': 3, 'widely': 3, 'believed': 3, 'trench': 3, 'best': 3, 'defense': 3, 'stage': 3, 'the': 3, 'kaiser': 3, 'theory': 3, 'formed': 3, 'things': 3, 'his': 3, 'wave': 3, 'across': 3, 'near': 3, 'majority': 3, 'democracies': 3, 'industry': 3, 'there': 3, 'crash': 3, 'responses': 3, 'millions': 3, 'steady': 3, 'thus': 3, 'provide': 3, 'welfare': 3, 'jewish': 3, 'appeared': 3, 'benito': 3, 'ideology': 3, 'when': 3, 'party': 3, 'speaking': 3, 'slave': 3, 'extermination': 3, 'period': 3, 'collapsed': 3, 'regimes': 3, 'attempted': 3, 'theater': 3, 'molotov': 3, 'ribbentrop': 3, 'alliance': 3, 'polish': 3, 'wehrmacht': 3, 'as': 3, 'gave': 3, 'lithuania': 3, 'remain': 3, 'possession': 3, 'red': 3, 'met': 3, 'resistance': 3, 'cause': 3, 'ally': 3, 'all': 3, 'line': 3, 'border': 3, 'incredible': 3, 'denmark': 3, 'crucial': 3, 'neutrality': 3, 'marshal': 3, 'greatest': 3, 'dunkirk': 3, 'hermann': 3, 'ring': 3, 'allowing': 3, 'men': 3, 'invade': 3, 'normandy': 3, 'occupy': 3, 'members': 3, 'around': 3, 'charles': 3, 'create': 3, 'continue': 3, 'bombers': 3, 'ordered': 3, 'plans': 3, 'code': 3, 'named': 3, 'come': 3, 'raf': 3, 'successful': 3, 'command': 3, 'decision': 3, 'barbarossa': 3, 'spring': 3, 'ever': 3, 'seen': 3, 'advanced': 3, 'miles': 3, 'halt': 3, 'capturing': 3, 'rich': 3, 'break': 3, 'supply': 3, 'reality': 3, 'americans': 3, 'parts': 3, 'el': 3, 'alamein': 3, 'gain': 3, 'policy': 3, 'struggling': 3, 'tide': 3, 'southern': 3, 'hands': 3, 'overlord': 3, 'assault': 3, 'landing': 3, 'ss': 3, 'carried': 3, 'real': 3, 'failed': 3, 'failure': 3, 'leaders': 3, 'roosevelt': 3, 'agreed': 3, 'most': 3, 'split': 3, 'reports': 3, 'mainly': 3, 'committed': 3, 'event': 3, 'usually': 3, 'report': 3, 'left': 3, 'placed': 3, 'reached': 3, 'expansion': 3, 'virginia': 3, 'speech': 3, 'colonies': 3, 'guam': 3, 'six': 3, 'aerial': 3, 'poor': 3, 'planning': 3, 'get': 3, 'mainland': 3, 'fighting': 3, 'leyte': 3, 'organized': 3, 'meant': 3, 'marines': 3, 'downfall': 3, 'potsdam': 3, 'declaration': 3, 'threatened': 3, 'dropped': 3, 'bombings': 3, 'reich': 3, 'ghettos': 3, 'armed': 3, 'devised': 3, 'work': 3, 'you': 3, 'detonated': 3, 'produced': 3, 'boy': 3, 'fat': 3, 'joe': 3, 'tense': 3, 'programs': 3, 'economies': 3, 'trials': 3, 'trial': 3, 'violent': 3, 'indian': 3, 'continent': 3, 'tom': 3, 'religious': 3, 'mutual': 3, 'warsaw': 3, 'populations': 3, 'must': 3, 'high': 3, 'romania': 3, 'cuba': 3, 'spread': 3, 'vietnamese': 3, 'saigon': 3, 'f': 3, 'kennedy': 3, 'sputnik': 3, 'milestones': 3, 'exploration': 3, 'venera': 3, 'wall': 3, 'hard': 3, 'boris': 3, 'mass': 3, 'computing': 3, 'invention': 3, 'open': 3, 'companies': 3, 'compaq': 3, 'released': 3, 'game': 3, 'protocol': 3, 'al': 3, 'beyond': 3, 'convenient': 3, 'lee': 3, 'scientific': 3, 'domination': 3, 'warming': 3, 'climate': 3, 'hiv': 3, 'virus': 3, 'aids': 3, 'epidemic': 3, 'thoughtco': 3, 'that': 3, 'r': 3, 'jstor': 3, 'is': 3, 'violence': 3, 'alan': 3, 'explained': 3, 'peck': 3, 'warfarehistorynetwork': 3, 'media': 3, 'pictures': 3, 'commission': 3, 'about': 3, 'would': 3, 'we': 3, 'law': 3, 'conversation': 3, 'pmc': 3, 'victims': 3, 'stanford': 3, 'cvce': 3, 'colonial': 3, 'twentieth': 3, 'wikipedia': 2, 'sparked': 2, 'rockets': 2, 'significant': 2, 'role': 2, 'shaped': 2, 'inventions': 2, 'airplane': 2, 'aftermath': 2, 'wwi': 2, 'termed': 2, 'whole': 2, 'austro': 2, 'hungarian': 2, 'throne': 2, 'ferdinand': 2, 'serbs': 2, 'liberation': 2, 'slavic': 2, 'aid': 2, 'alliances': 2, 'bulgaria': 2, 'ottoman': 2, 'negotiated': 2, 'brest': 2, 'litovsk': 2, 'huge': 2, 'ukraine': 2, 'front': 2, 'signing': 2, 'stop': 2, 'entrance': 2, 'chance': 2, 'show': 2, 'strength': 2, 'technological': 2, 'introduced': 2, 'gases': 2, 'both': 2, 'slow': 2, 'forcing': 2, 'make': 2, 'accept': 2, 'democratic': 2, 'imposed': 2, 'victors': 2, 'map': 2, 'prevented': 2, 'homeland': 2, 'prevent': 2, 'act': 2, 'overthrow': 2, 'revolutions': 2, 'believe': 2, 'defeated': 2, 'died': 2, 'longer': 2, 'concentrated': 2, 'socialism': 2, 'collectivization': 2, 'industrialization': 2, 'photo': 2, 'iconic': 2, 'photos': 2, 'associated': 2, 'provided': 2, 'activity': 2, 'generally': 2, 'situation': 2, 'job': 2, 'away': 2, 'meet': 2, 'correct': 2, 'alleviate': 2, 'suffering': 2, 'rather': 2, 'continuing': 2, 'approach': 2, 'assumed': 2, 'services': 2, 'born': 2, 'politico': 2, 'belief': 2, 'defend': 2, 'nazism': 2, 'experiment': 2, 'annexation': 2, 'labor': 2, 'interests': 2, 'racial': 2, 'antisemitism': 2, 'wrong': 2, 'widespread': 2, 'blame': 2, 'causing': 2, 'anschluss': 2, 'munich': 2, 'avoid': 2, 'protect': 2, 'security': 2, 'czech': 2, 'annexed': 2, 'francisco': 2, 'franco': 2, 'spanish': 2, 'achieve': 2, 'total': 2, 'individual': 2, 'perpetrated': 2, 'overview': 2, 'protection': 2, 'officially': 2, 'unleashed': 2, 'blitzkrieg': 2, 'surprise': 2, 'immediately': 2, 'acting': 2, 'exile': 2, 'starting': 2, 'type': 2, 'mobile': 2, 'panzer': 2, 'smashed': 2, 'fought': 2, 'trenches': 2, 'nonaggression': 2, 'estonia': 2, 'latvia': 2, 'puppet': 2, 'staunch': 2, 'finnish': 2, 'finns': 2, 'belgium': 2, 'netherlands': 2, 'eben': 2, 'emael': 2, 'fort': 2, 'paratroopers': 2, 'king': 2, 'without': 2, 'conquest': 2, 'supplied': 2, 'swedish': 2, 'successfully': 2, 'maintain': 2, 'disaster': 2, 'tain': 2, 'blunder': 2, 'trapped': 2, 'craft': 2, 'risk': 2, 'minister': 2, 'escaped': 2, 'beaches': 2, 'gaulle': 2, 'moment': 2, 'hundred': 2, 'burden': 2, 'eyes': 2, 'alone': 2, 'lion': 2, 'summer': 2, 'point': 2, 'civilian': 2, 'terror': 2, 'dive': 2, 'bomber': 2, 'stuka': 2, 'switch': 2, 'focus': 2, 'allowed': 2, 'importance': 2, 'impact': 2, 'incoming': 2, 'friendly': 2, 'disastrous': 2, 'utter': 2, 'albania': 2, 'prompted': 2, 'revenge': 2, 'over': 2, 'intelligence': 2, 'largely': 2, 'c': 2, 'laid': 2, 'decided': 2, 'drove': 2, 'egypt': 2, 'verge': 2, 'rate': 2, 'repeatedly': 2, 'preventing': 2, 'oil': 2, 'insisted': 2, 'blow': 2, 'tripartite': 2, 'attention': 2, 'tides': 2, 'kursk': 2, 'decisive': 2, 'serious': 2, 'replace': 2, 'hold': 2, 'acted': 2, 'really': 2, 'support': 2, 'formally': 2, 'social': 2, 'rome': 2, 'effective': 2, 'boat': 2, 'weather': 2, 'expecting': 2, 'calais': 2, 'table': 2, 'arresting': 2, 'goebbels': 2, 'wake': 2, 'fast': 2, 'late': 2, 'effect': 2, 'terrifying': 2, 'allow': 2, 'effectively': 2, 'everything': 2, 'gamble': 2, 'nevertheless': 2, 'liberated': 2, 'divide': 2, 'spheres': 2, 'dominate': 2, 'supreme': 2, 'dwight': 2, 'guerrilla': 2, 'unconditionally': 2, 'begun': 2, 'combined': 2, 'mukden': 2, 'withdrawing': 2, 'emperor': 2, 'out': 2, 'marco': 2, 'polo': 2, 'bridge': 2, 'hostilities': 2, 'somewhat': 2, 'stalemate': 2, 'uss': 2, 'fleet': 2, 'singapore': 2, 'hong': 2, 'kong': 2, 'burma': 2, 'solomon': 2, 'far': 2, 'escape': 2, 'australia': 2, 'darwin': 2, 'soil': 2, 'coral': 2, 'proved': 2, 'navy': 2, 'bay': 2, 'trying': 2, 'closer': 2, 'tinian': 2, 'philippine': 2, 'stated': 2, 'goal': 2, 'notable': 2, 'kamikaze': 2, 'least': 2, 'enola': 2, 'gay': 2, 'mission': 2, 'paul': 2, 'truman': 2, 'estimated': 2, 'bombardment': 2, 'cabinet': 2, 'hirohito': 2, 'formal': 2, 'instrument': 2, 'means': 2, 'murder': 2, 'whether': 2, 'persecution': 2, 'kristallnacht': 2, 'night': 2, 'glass': 2, 'feelings': 2, 'politicians': 2, 'consider': 2, 'followers': 2, 'evil': 2, 'camp': 2, 'suddenly': 2, 'thousands': 2, 'einsatzgruppen': 2, 'not': 2, 'experiments': 2, 'ethics': 2, 'auschwitz': 2, 'additional': 2, 'holding': 2, 'controversy': 2, 'past': 2, 'reported': 2, 'occurred': 2, 'entirely': 2, 'claims': 2, 'discredited': 2, 'broke': 2, 'scientists': 2, 'feared': 2, 'kingdom': 2, 'team': 2, 'trinity': 2, 'possibility': 2, 'extinction': 2, 'overnight': 2, 'while': 2, 'assistance': 2, 'espionage': 2, 'dubbed': 2, 'thermonuclear': 2, 'full': 2, 'missiles': 2, 'increased': 2, 'superpowers': 2, 'developing': 2, 'mutually': 2, 'concerns': 2, 'rising': 2, 'regional': 2, 'attempt': 2, 'campaigns': 2, 'rebuilt': 2, 'dominant': 2, 'numerous': 2, 'officials': 2, 'less': 2, 'nearly': 2, 'successes': 2, 'enough': 2, 'member': 2, 'process': 2, 'gandhi': 2, 'struggle': 2, 'separate': 2, 'partition': 2, 'bangladesh': 2, 'indochina': 2, 'cambodia': 2, 'jomo': 2, 'kenyatta': 2, 'kwame': 2, 'nkrumah': 2, 'through': 2, 'others': 2, 'portuguese': 2, 'cases': 2, 'territorial': 2, 'regions': 2, 'some': 2, 'tensions': 2, 'rivalry': 2, 'five': 2, 'famous': 2, 'term': 2, 'lie': 2, 'ancient': 2, 'lithuanian': 2, 'authorities': 2, 'considering': 2, 'nato': 2, 'peninsula': 2, 'colony': 2, 'parallel': 2, 'sovereignty': 2, 'canada': 2, 'pushed': 2, 'armistice': 2, 'perhaps': 2, 'resolution': 2, 'supposed': 2, 'doctrine': 2, 'tet': 2, 'involvement': 2, 'brink': 2, 'flights': 2, 'launchers': 2, 'removed': 2, 'running': 2, 'luna': 2, 'yuri': 2, 'gagarin': 2, 'culminated': 2, 'rover': 2, 'image': 2, 'transfer': 2, 'surface': 2, 'planet': 2, 'voyager': 2, 'shuttle': 2, 'reusable': 2, 'mir': 2, 'skylab': 2, 'prolonged': 2, 'fell': 2, 'its': 2, 'pressures': 2, 'gorbachev': 2, 'glasnost': 2, 'perestroika': 2, 'solidarity': 2, 'breaking': 2, 'yeltsin': 2, 'communications': 2, 'hardware': 2, 'devices': 2, 'fixed': 2, 'purpose': 2, 'programming': 2, 'operating': 2, 'improved': 2, 'productivity': 2, 'building': 2, 'mouse': 2, 'simple': 2, 'storage': 2, 'paper': 2, 'tape': 2, 'disks': 2, 'bubble': 2, 'random': 2, 'colossus': 2, 'advantage': 2, 'businesses': 2, 'designs': 2, 'components': 2, 'available': 2, 'architecture': 2, 'proprietary': 2, 'bios': 2, 'microsoft': 2, 'data': 2, 'physical': 2, 'issues': 2, 'patents': 2, 'stallman': 2, 'programmers': 2, 'universities': 2, 'arcade': 2, 'pong': 2, 'order': 2, 'consoles': 2, 'designed': 2, 'model': 2, 'local': 2, 'linking': 2, 'telephone': 2, 'link': 2, 'board': 2, 'culture': 2, 'gore': 2, 'electronic': 2, 'letter': 2, 'distribution': 2, 'bush': 2, 'hypertext': 2, 'fueled': 2, 'interactive': 2, 'dot': 2, 'due': 2, 'fear': 2, 'more': 2, 'daily': 2, 'sixth': 2, 'centuries': 2, 'complete': 2, 'truly': 2, 'greenhouse': 2, 'gas': 2, 'emissions': 2, 'figure': 2, 'americanization': 2, 'problems': 2, 'face': 2, 'said': 2, 'scale': 2, 'environment': 2, 'disease': 2, 'sars': 2, 'nile': 2, 'carbon': 2, 'dioxide': 2, 'kyoto': 2, 'popular': 2, 'opinion': 2, 'eve': 2, 'who': 2, 'anthony': 2, 'firstworldwar': 2, 'mason': 2, 'amanda': 2, 'forever': 2, 'matt': 2, 'life': 2, 'documents': 2, 'allen': 2, 'mckinsey': 2, 'bruce': 2, 'review': 2, 'helped': 2, 'perspectives': 2, 'road': 2, 'spiegel': 2, 'dw': 2, 'ed': 2, 'surrenders': 2, 'zimmerman': 2, 'carrier': 2, 'arm': 2, 'des': 2, 'magazine': 2, 'simon': 2, 'schuster': 2, 'agency': 2, 'historynet': 2, 'declares': 2, 'be': 2, 'j': 2, 'bloomsbury': 2, 'wwii': 2, 'orleans': 2, 'routledge': 2, 'aug': 2, 'biddiscombe': 2, 'alexander': 2, 'perry': 2, 'toronto': 2, 'books': 2, 'critique': 2, 'can': 2, 'avalon': 2, 'yale': 2, 'against': 2, 'representatives': 2, 'art': 2, 'maritime': 2, 'gordon': 2, 'm': 2, 'association': 2, 'wartime': 2, 'ben': 2, 'insider': 2, 'studies': 2, 'have': 2, 'historical': 2, 'atomicarchive': 2, 'explainer': 2, 'andrew': 2, 'boston': 2, 'inside': 2, 'george': 2, 'haaretz': 2, 'where': 2, 'for': 2, 'no': 2, 'resource': 2, 'mulhall': 2, 'energy': 2, 'ctbto': 2, 'preparatory': 2, 'comprehensive': 2, 'ban': 2, 'forget': 2, 'up': 2, 'nti': 2, 'website': 2, 'james': 2, 'did': 2, 'lessons': 2, 'telegraph': 2, 'julius': 2, 'max': 2, 'are': 2, 'now': 2, 'true': 2, 'dulles': 2, 'their': 2, 'freedom': 2, 'thomas': 2, 'elizabeth': 2, 'dies': 2, 'depth': 2, 'nasa': 2, 'lewis': 2, 'giant': 2, 'lucy': 2, 'h': 2, 'ieee': 2, 'circuits': 2, 'basic': 2, 'mccullough': 2, 'catch': 2, 'creative': 2, 'bitlaw': 2, 'brief': 2, 'related': 2, 'motley': 2, 'fool': 2, 'commercialization': 2, 'nordregio': 2, 'wikimedia': 2, 'commons': 2, 'privacy': 2, 'contents': 1, 'hide': 1, 'centurytoggle': 1, 'subsectionsee': 1, 'alsoreferencessourcesexternal': 1, 'linkskey': 1, 'languagesarticletalkreadeditview': 1, 'historytoolsfrom': 1, 'encyclopediathe': 1, 'unprecedented': 1, 'ways': 1, 'tension': 1, 'advancements': 1, 'played': 1, 'citizens': 1, 'edwardian': 1, 'erathe': 1, 'herald': 1, 'series': 1, 'automobile': 1, 'radio': 1, 'broadcasting': 1, 'balance': 1, 'destroying': 1, 'transforming': 1, 'iarrest': 1, 'suspect': 1, 'archduke': 1, 'ferdinandthe': 1, 'simply': 1, 'contemporaries': 1, 'extension': 1, 'ignited': 1, 'heir': 1, 'erzherzog': 1, 'gavrilo': 1, 'princip': 1, 'bosnia': 1, 'bosnian': 1, 'similar': 1, 'inciting': 1, 'bound': 1, 'nationalism': 1, 'serbian': 1, 'russians': 1, 'interwoven': 1, 'hatreds': 1, 'dragged': 1, 'triple': 1, 'entente': 1, 'comprised': 1, 'hostile': 1, 'actions': 1, 'tsar': 1, 'bolsheviks': 1, 'bolshevik': 1, 'ceded': 1, 'province': 1, 'kars': 1, 'oblast': 1, 'caucasus': 1, 'recognized': 1, 'shifted': 1, 'combatant': 1, 'ingenuity': 1, 'gun': 1, 'deadly': 1, 'unfortunately': 1, 'terrible': 1, 'iwhen': 1, 'results': 1, 'twenty': 1, 'foremost': 1, 'versailles': 1, 'exorbitant': 1, 'payments': 1, 'repair': 1, 'damages': 1, 'felt': 1, 'reparations': 1, 'unfair': 1, 'actually': 1, 'lose': 1, 'feel': 1, 'stab': 1, 'in': 1, 'legend': 1, 'yet': 1, 'liberal': 1, 'abdication': 1, 'wilhelm': 1, 'redrawn': 1, 'accommodate': 1, 'nationalist': 1, 'aspirations': 1, 'body': 1, 'mediate': 1, 'disputes': 1, 'effectiveness': 1, 'severely': 1, 'reluctance': 1, 'inability': 1, 'revolutionthe': 1, 'tsarist': 1, 'execution': 1, 'majesty': 1, 'nicholas': 1, 'family': 1, 'prompting': 1, 'realized': 1, 'vladimir': 1, 'lenin': 1, 'displaced': 1, 'leon': 1, 'trotsky': 1, 'facto': 1, 'worldwide': 1, 'forefront': 1, 'embarked': 1, 'bold': 1, 'socialists': 1, 'communists': 1, 'disillusioned': 1, 'autocratic': 1, 'purges': 1, 'enemies': 1, 'famines': 1, 'strengthened': 1, 'crashed': 1, 'attracted': 1, 'unaffected': 1, 'dorothea': 1, 'lange': 1, 'migrant': 1, 'mother': 1, 'depressionmain': 1, 'interwar': 1, 'periodeconomic': 1, 'roaring': 1, 'twenties': 1, 'depressionafter': 1, 'stimulus': 1, 'signs': 1, 'foretelling': 1, 'understood': 1, 'worse': 1, 'watched': 1, 'savings': 1, 'worthless': 1, 'reasonable': 1, 'income': 1, 'fading': 1, 'sought': 1, 'answers': 1, 'alternative': 1, 'ideologies': 1, 'collapsing': 1, 'ideas': 1, 'required': 1, 'assumption': 1, 'existing': 1, 'reformed': 1, 'laissez': 1, 'faire': 1, 'prominent': 1, 'governments': 1, 'responsibility': 1, 'poverty': 1, 'principles': 1, 'opposed': 1, 'private': 1, 'institutions': 1, 'define': 1, 'totalitarianism': 1, 'dictatorshipnazi': 1, 'hang': 1, 'poster': 1, 'window': 1, 'owned': 1, 'do': 1, 'buy': 1, 'supported': 1, 'proportion': 1, 'upper': 1, 'classes': 1, 'challenge': 1, 'variant': 1, 'democracy': 1, 'dedicated': 1, 'restoration': 1, 'honor': 1, 'prestige': 1, 'unification': 1, 'peoples': 1, 'vassal': 1, 'serve': 1, 'appeal': 1, 'mythical': 1, 'purity': 1, 'herrenvolk': 1, 'master': 1, 'vicious': 1, 'promoted': 1, 'subhuman': 1, 'untermensch': 1, 'worthy': 1, 'greeted': 1, 'relief': 1, 'indifference': 1, 'nothing': 1, 'ready': 1, 'menace': 1, 'content': 1, 'downturn': 1, 'motion': 1, 'annexing': 1, 'reunification': 1, 'sudetenland': 1, 'mountainous': 1, 'eager': 1, 'assurance': 1, 'shortly': 1, 'afterwards': 1, 'indicating': 1, 'ulterior': 1, 'motives': 1, 'replaced': 1, 'authoritarian': 1, 'spain': 1, 'totalitarian': 1, 'subjects': 1, 'loyalty': 1, 'responsible': 1, 'acts': 1, 'purge': 1, 'iithe': 1, 'iithis': 1, 'section': 1, 'provides': 1, 'conversational': 1, 'fuller': 1, 'discussion': 1, 'issued': 1, 'assurances': 1, 'seemed': 1, 'list': 1, 'lightning': 1, 'delivered': 1, 'negligible': 1, 'sixteen': 1, 'overwhelmed': 1, 'fled': 1, 'characterized': 1, 'highly': 1, 'massed': 1, 'devotion': 1, 'divisions': 1, 'infantry': 1, 'concert': 1, 'relentless': 1, 'encirclement': 1, 'expectations': 1, 'conquered': 1, 'secretary': 1, 'guarantees': 1, 'rein': 1, 'reduce': 1, 'succeeded': 1, 'gaining': 1, 'phony': 1, 'ensued': 1, 'luxembourg': 1, 'probably': 1, 'surmount': 1, 'maginot': 1, 'defenses': 1, 'witnessed': 1, 'belgian': 1, 'impregnable': 1, 'guarded': 1, 'belgians': 1, 'leopold': 1, 'iii': 1, 'exposing': 1, 'flank': 1, 'strategically': 1, 'routes': 1, 'ore': 1, 'sweden': 1, 'scandinavian': 1, 'occasional': 1, 'breaches': 1, 'favor': 1, 'finest': 1, 'lasted': 1, 'philippe': 1, 'debacle': 1, 'mysteries': 1, 'evacuated': 1, 'every': 1, 'find': 1, 'fishing': 1, 'panzers': 1, 'listening': 1, 'advice': 1, 'handle': 1, 'irony': 1, 'quarters': 1, 'coast': 1, 'dictator': 1, 'vichy': 1, 'stead': 1, 'thinking': 1, 'yards': 1, 'boon': 1, 'precious': 1, 'heinkel': 1, 'britainhitler': 1, 'stood': 1, 'generals': 1, 'draw': 1, 'isles': 1, 'planes': 1, 'royal': 1, 'key': 1, 'discontinued': 1, 'factories': 1, 'coordination': 1, 'stations': 1, 'distinctive': 1, 'sound': 1, 'infuriated': 1, 'rebuild': 1, 'indefinitely': 1, 'postpone': 1, 'defeats': 1, 'overall': 1, 'overshadowed': 1, 'blunders': 1, 'secondly': 1, 'advent': 1, 'squadrons': 1, 'fighters': 1, 'assembled': 1, 'respond': 1, 'attempting': 1, 'targets': 1, 'identification': 1, 'guess': 1, 'enemy': 1, 'tracking': 1, 'airplanes': 1, 'aback': 1, 'skies': 1, 'gaze': 1, 'eastward': 1, 'aggression': 1, 'despised': 1, 'wished': 1, 'destroy': 1, 'birth': 1, 'originally': 1, 'pro': 1, 'greeks': 1, 'bitter': 1, 'sorts': 1, 'delay': 1, 'potentially': 1, 'hampering': 1, 'height': 1, 'service': 1, 'warned': 1, 'therefore': 1, 'unprepared': 1, 'setbacks': 1, 'orders': 1, 'counterattack': 1, 'territories': 1, 'belarus': 1, 'siege': 1, 'leningrad': 1, 'saint': 1, 'petersburg': 1, 'critical': 1, 'stalled': 1, 'gates': 1, 'evacuate': 1, 'moved': 1, 'functions': 1, 'stay': 1, 'rally': 1, 'recently': 1, 'arrived': 1, 'georgy': 1, 'zhukov': 1, 'counterattacked': 1, 'sending': 1, 'thousand': 1, 'erwin': 1, 'smash': 1, 'massively': 1, 'superior': 1, 'recapture': 1, 'port': 1, 'tobruk': 1, 'embroiled': 1, 'send': 1, 'retreat': 1, 'seizing': 1, 'root': 1, 'iraq': 1, 'persia': 1, 'fresh': 1, 'aim': 1, 'caucacus': 1, 'switched': 1, 'bogged': 1, 'let': 1, 'adequately': 1, 'minute': 1, 'fraction': 1, 'ammunition': 1, 'rations': 1, 'starved': 1, 'dealing': 1, 'severe': 1, 'meanwhile': 1, 'hawaii': 1, 'brass': 1, 'advised': 1, 'declaring': 1, 'arguing': 1, 'aggressor': 1, 'bind': 1, 'able': 1, 'helping': 1, 'effort': 1, 'soldier': 1, 'gives': 1, 'gesture': 1, 'abandon': 1, 'montgomery': 1, 'declare': 1, 'fronts': 1, 'encountered': 1, 'costs': 1, 'forbade': 1, 'relinquishing': 1, 'completely': 1, 'ineffective': 1, 'initiative': 1, 'manner': 1, 'chagrin': 1, 'invading': 1, 'morocco': 1, 'algeria': 1, 'then': 1, 'sicily': 1, 'preparation': 1, 'soft': 1, 'underbelly': 1, 'stripped': 1, 'prisoner': 1, 'feigned': 1, 'loyal': 1, 'freed': 1, 'consisted': 1, 'shrinking': 1, 'zone': 1, 'offered': 1, 'fallen': 1, 'longest': 1, 'complex': 1, 'sever': 1, 'vital': 1, 'lines': 1, 'sinking': 1, 'tons': 1, 'shipping': 1, 'submarines': 1, 'destroyer': 1, 'patrol': 1, 'countering': 1, 'awaited': 1, 'fortress': 1, 'wanted': 1, 'codenamed': 1, 'morning': 1, 'hours': 1, 'foul': 1, 'charge': 1, 'defending': 1, 'thought': 1, 'stormy': 1, 'holiday': 1, 'besides': 1, 'natural': 1, 'artificial': 1, 'harbours': 1, 'false': 1, 'leads': 1, 'planted': 1, 'suggested': 1, 'approaching': 1, 'omaha': 1, 'beach': 1, 'looking': 1, 'darker': 1, 'conspiring': 1, 'officers': 1, 'assassinate': 1, 'injure': 1, 'shielded': 1, 'stroke': 1, 'luck': 1, 'plotters': 1, 'head': 1, 'gestapo': 1, 'rallied': 1, 'hunted': 1, 'conspirators': 1, 'plot': 1, 'according': 1, 'estimates': 1, 'flying': 1, 'intercepted': 1, 'pilots': 1, 'extremely': 1, 'payload': 1, 'introducing': 1, 'jet': 1, 'propeller': 1, 'submarine': 1, 'improvements': 1, 'save': 1, 'desperate': 1, 'bulge': 1, 'initial': 1, 'introduction': 1, 'tanks': 1, 'troop': 1, 'numbers': 1, 'costliest': 1, 'franklin': 1, 'crimea': 1, 'here': 1, 'elections': 1, 'diplomacy': 1, 'strings': 1, 'intending': 1, 'fan': 1, 'eisenhower': 1, 'strike': 1, 'instead': 1, 'obsessed': 1, 'existed': 1, 'besieged': 1, 'bunker': 1, 'chancellery': 1, 'garden': 1, 'shooting': 1, 'ritual': 1, 'wedding': 1, 'longtime': 1, 'mistress': 1, 'eva': 1, 'braun': 1, 'admiral': 1, 'doenitz': 1, 'rivalries': 1, 'sense': 1, 'victorious': 1, 'foundations': 1, 'asiatic': 1, 'theaterbackground': 1, 'linked': 1, 'staged': 1, 'railway': 1, 'pinned': 1, 'dissidents': 1, 'pretext': 1, 'northeastern': 1, 'region': 1, 'commissioned': 1, 'lytton': 1, 'exposed': 1, 'ruse': 1, 'internationally': 1, 'isolated': 1, 'constitutional': 1, 'monarchy': 1, 'pu': 1, 'yi': 1, 'dispute': 1, 'escalation': 1, 'deadliest': 1, 'enjoyed': 1, 'shanghai': 1, 'capital': 1, 'nanjing': 1, 'relocation': 1, 'chongqing': 1, 'changsha': 1, 'guangxi': 1, 'controlling': 1, 'vast': 1, 'countryside': 1, 'cosignatories': 1, 'joining': 1, 'harboron': 1, 'mean': 1, 'interfering': 1, 'infamy': 1, 'marking': 1, 'official': 1, 'entry': 1, 'thailand': 1, 'malaya': 1, 'bases': 1, 'months': 1, 'dominated': 1, 'weary': 1, 'stretched': 1, 'thin': 1, 'capture': 1, 'dutch': 1, 'indies': 1, 'bali': 1, 'timor': 1, 'retirement': 1, 'onset': 1, 'flee': 1, 'narrowly': 1, 'month': 1, 'inflicting': 1, 'damage': 1, 'stunning': 1, 'reasons': 1, 'resounding': 1, 'overconfidence': 1, 'intercepting': 1, 'paired': 1, 'attrition': 1, 'replenish': 1, 'earning': 1, 'guadalcanal': 1, 'milne': 1, 'buna': 1, 'gona': 1, 'slowly': 1, 'absolutely': 1, 'necessary': 1, 'execute': 1, 'recaptured': 1, 'boeing': 1, 'definitively': 1, 'ability': 1, 'rely': 1, 'carriers': 1, 'possibly': 1, 'severing': 1, 'fuel': 1, 'remainder': 1, 'situated': 1, 'halfway': 1, 'mariana': 1, 'better': 1, 'prevention': 1, 'raids': 1, 'heavily': 1, 'fortifying': 1, 'outnumbering': 1, 'usa': 1, 'heavy': 1, 'wounded': 1, 'question': 1, 'worth': 1, 'counteroffensives': 1, 'feasible': 1, 'borneo': 1, 'nearer': 1, 'mounted': 1, 'amphibious': 1, 'hopping': 1, 'kadena': 1, 'approximately': 1, 'missing': 1, 'crew': 1, 'tibbets': 1, 'assaults': 1, 'incredibly': 1, 'costly': 1, 'horrified': 1, 'prospect': 1, 'boots': 1, 'dozens': 1, 'showed': 1, 'prompt': 1, 'resort': 1, 'squadron': 1, 'civilians': 1, 'sacred': 1, 'broadcast': 1, 'rescript': 1, 'battleship': 1, 'missouri': 1, 'accepted': 1, 'holocaustthe': 1, 'roughly': 1, 'deliberate': 1, 'systematic': 1, 'minorities': 1, 'differing': 1, 'views': 1, 'exist': 1, 'regarding': 1, 'intended': 1, 'occur': 1, 'regardless': 1, 'extended': 1, 'literally': 1, 'crystal': 1, 'broken': 1, 'stir': 1, 'antisemitic': 1, 'laborers': 1, 'buchenwald': 1, 'previously': 1, 'deported': 1, 'undesirables': 1, 'round': 1, 'cordoned': 1, 'sections': 1, 'live': 1, 'deplorable': 1, 'conditions': 1, 'tens': 1, 'starving': 1, 'bodies': 1, 'decaying': 1, 'streets': 1, 'appalling': 1, 'sounds': 1, 'lucky': 1, 'ones': 1, 'killing': 1, 'squads': 1, 'systematically': 1, 'rounded': 1, 'murdered': 1, 'barbaric': 1, 'inhuman': 1, 'seems': 1, 'inefficient': 1, 'standards': 1, 'wannsee': 1, 'suburb': 1, 'efficient': 1, 'slaughter': 1, 'rounding': 1, 'shot': 1, 'gassed': 1, 'en': 1, 'masse': 1, 'horrific': 1, 'experimentation': 1, 'condemnation': 1, 'sadistic': 1, 'pleasure': 1, 'notorious': 1, 'arbeit': 1, 'macht': 1, 'frei': 1, 'sets': 1, 'homosexuals': 1, 'jehovah': 1, 'witnesses': 1, 'roma': 1, 'various': 1, 'appears': 1, 'prominently': 1, 'displayed': 1, 'magazines': 1, 'newspapers': 1, 'places': 1, 'walk': 1, 'towns': 1, 'villages': 1, 'slaves': 1, 'case': 1, 'smell': 1, 'deny': 1, 'routinely': 1, 'mainstream': 1, 'begins': 1, 'weaponsduring': 1, 'innovations': 1, 'physics': 1, 'apparent': 1, 'reactions': 1, 'advisors': 1, 'pooled': 1, 'beat': 1, 'los': 1, 'alamos': 1, 'laboratory': 1, 'mexico': 1, 'scientist': 1, 'oppenheimer': 1, 'tested': 1, 'discovered': 1, 'explosion': 1, 'powered': 1, 'uranium': 1, 'plutonium': 1, 'fissionable': 1, 'material': 1, 'combination': 1, 'convinced': 1, 'annihilation': 1, 'bring': 1, 'monopoly': 1, 'production': 1, 'detonate': 1, 'deteriorating': 1, 'disintegrate': 1, 'locked': 1, 'stockpiling': 1, 'hydrogen': 1, 'primitive': 1, 'fledged': 1, 'computerized': 1, 'scope': 1, 'escalate': 1, 'icbm': 1, 'guaranteed': 1, 'served': 1, 'backdrop': 1, 'destabilizing': 1, 'spurring': 1, 'races': 1, 'likelihood': 1, 'nine': 1, 'overtly': 1, 'stockpiles': 1, 'inherit': 1, 'crude': 1, 'dismantled': 1, 'certainly': 1, 'confirmed': 1, 'denied': 1, 'curtail': 1, 'suspected': 1, 'clandestine': 1, 'expansionfollowing': 1, 'industrialized': 1, 'lay': 1, 'ruins': 1, 'result': 1, 'protracted': 1, 'exception': 1, 'barring': 1, 'minor': 1, 'incidents': 1, 'devastation': 1, 'populated': 1, 'found': 1, 'marshall': 1, 'chief': 1, 'instigator': 1, 'joint': 1, 'seven': 1, 'oddly': 1, 'rose': 1, 'famously': 1, 'prosecuted': 1, 'offenses': 1, 'cronies': 1, 'convicted': 1, 'crime': 1, 'essentially': 1, 'dissolved': 1, 'founding': 1, 'san': 1, 'achieving': 1, 'disputed': 1, 'overcome': 1, 'conflicting': 1, 'priorities': 1, 'somare': 1, 'papua': 1, 'imperialismalmost': 1, 'shedding': 1, 'overseas': 1, 'tactics': 1, 'employed': 1, 'revolutionaries': 1, 'ranged': 1, 'forms': 1, 'protest': 1, 'rebellions': 1, 'depending': 1, 'possessions': 1, 'mahatma': 1, 'icon': 1, 'whereas': 1, 'mohamed': 1, 'ali': 1, 'jinnah': 1, 'advocated': 1, 'muslims': 1, 'elsewhere': 1, 'granted': 1, 'insurrections': 1, 'laos': 1, 'nationalists': 1, 'kenya': 1, 'ghana': 1, 'respective': 1, 'mere': 1, 'seychelles': 1, 'am': 1, 'lcar': 1, 'cabral': 1, 'bissau': 1, 'cape': 1, 'verde': 1, 'angola': 1, 'mozambique': 1, 'o': 1, 'pr': 1, 'ncipe': 1, 'suit': 1, 'mid': 1, 'joined': 1, 'membership': 1, 'emergence': 1, 'partitions': 1, 'historically': 1, 'antagonistic': 1, 'share': 1, 'arbitrarily': 1, 'aroused': 1, 'nigerian': 1, 'congo': 1, 'sudanese': 1, 'blocmain': 1, 'destructionduring': 1, 'geopolitical': 1, 'visiting': 1, 'westminster': 1, 'college': 1, 'credited': 1, 'refer': 1, 'separation': 1, 'stettin': 1, 'trieste': 1, 'adriatic': 1, 'descended': 1, 'capitals': 1, 'prague': 1, 'vienna': 1, 'budapest': 1, 'belgrade': 1, 'bucharest': 1, 'sofia': 1, 'call': 1, 'sphere': 1, 'subject': 1, 'measure': 1, 'indeed': 1, 'incorporated': 1, 'byelorussian': 1, 'ukrainian': 1, 'latvian': 1, 'estonian': 1, 'karelo': 1, 'moldavian': 1, 'wholly': 1, 'furthermore': 1, 'coming': 1, 'transformation': 1, 'relation': 1, 'fluctuate': 1, 'satellite': 1, 'outside': 1, 'bloc': 1, 'include': 1, 'mongolia': 1, 'particular': 1, 'nervous': 1, 'preemptive': 1, 'rival': 1, 'blocks': 1, 'coalesced': 1, 'organizations': 1, 'determine': 1, 'expand': 1, 'unaligned': 1, 'limit': 1, 'rivals': 1, 'proxy': 1, 'crisistwo': 1, 'versus': 1, 'illegitimate': 1, 'claiming': 1, 'repulsing': 1, 'northern': 1, 'leaving': 1, 'koreas': 1, 'visible': 1, 'withdrawal': 1, 'partitioned': 1, 'halves': 1, 'escalated': 1, 'contributed': 1, 'directly': 1, 'tonkin': 1, 'passed': 1, 'reaction': 1, 'destroyers': 1, 'belligerent': 1, 'viewed': 1, 'contain': 1, 'containment': 1, 'domino': 1, 'drafted': 1, 'my': 1, 'lai': 1, 'massacre': 1, 'leaked': 1, 'sentiment': 1, 'elected': 1, 'partially': 1, 'promise': 1, 'gradual': 1, 'pullout': 1, 'units': 1, 'awry': 1, 'deliberately': 1, 'sabotaging': 1, 'talks': 1, 'spilled': 1, 'neighboring': 1, 'accords': 1, 'retaliation': 1, 'gone': 1, 'proceeded': 1, 'violate': 1, 'ceasefire': 1, 'unified': 1, 'bringing': 1, 'unpopular': 1, 'illustrates': 1, 'fidel': 1, 'castro': 1, 'ties': 1, 'obviously': 1, 'disquieting': 1, 'proximity': 1, 'lockheed': 1, 'spy': 1, 'plane': 1, 'revealed': 1, 'installed': 1, 'instituted': 1, 'blockade': 1, 'publicly': 1, 'confronted': 1, 'week': 1, 'wanting': 1, 'igniting': 1, 'humans': 1, 'foot': 1, 'racewith': 1, 'stars': 1, 'pulled': 1, 'ahead': 1, 'mercury': 1, 'gemini': 1, 'landings': 1, 'abort': 1, 'match': 1, 'achievements': 1, 'addition': 1, 'probes': 1, 'friendlier': 1, 'regular': 1, 'enabled': 1, 'habitation': 1, 'incomplete': 1, 'continual': 1, 'separating': 1, 'weakening': 1, 'draining': 1, 'funds': 1, 'weakened': 1, 'internal': 1, 'mikhail': 1, 'reform': 1, 'off': 1, 'slippery': 1, 'slope': 1, 'liners': 1, 'opposition': 1, 'disbanded': 1, 'constituent': 1, 'putting': 1, 'exhausted': 1, 'internetthe': 1, 'transistor': 1, 'revolutionized': 1, 'room': 1, 'sized': 1, 'electro': 1, 'mechanical': 1, 'built': 1, 'cryptographical': 1, 'codes': 1, 'smaller': 1, 'transistors': 1, 'reprogrammable': 1, 'languages': 1, 'operators': 1, 'concentrate': 1, 'solving': 1, 'level': 1, 'think': 1, 'instructions': 1, 'vastly': 1, 'pioneers': 1, 'realize': 1, 'envisioned': 1, 'graphical': 1, 'user': 1, 'interface': 1, 'piloted': 1, 'harness': 1, 'accessible': 1, 'users': 1, 'progressed': 1, 'punched': 1, 'cards': 1, 'magnetic': 1, 'floppy': 1, 'access': 1, 'operated': 1, 'wrensthe': 1, 'word': 1, 'processor': 1, 'spreadsheet': 1, 'database': 1, 'greatly': 1, 'typewriter': 1, 'filing': 1, 'methods': 1, 'efficiencies': 1, 'cpus': 1, 'industrial': 1, 'brew': 1, 'boom': 1, 'apple': 1, 'zx': 1, 'commodore': 1, 'pet': 1, 'seeking': 1, 'embrace': 1, 'microcomputer': 1, 'crucially': 1, 'impediment': 1, 'duplicating': 1, 'other': 1, 'reverse': 1, 'engineered': 1, 'compatible': 1, 'rode': 1, 'popularity': 1, 'heralded': 1, 'applications': 1, 'processing': 1, 'ethereal': 1, 'valuable': 1, 'commodities': 1, 'surrounding': 1, 'intellectual': 1, 'property': 1, 'algorithms': 1, 'patentable': 1, 'forming': 1, 'basis': 1, 'begin': 1, 'gnu': 1, 'paving': 1, 'usable': 1, 'platform': 1, 'entertainment': 1, 'exercising': 1, 'creativity': 1, 'commercially': 1, 'invaders': 1, 'once': 1, 'established': 1, 'bedrooms': 1, 'youthful': 1, 'advancing': 1, 'machines': 1, 'custom': 1, 'oriented': 1, 'operations': 1, 'sprites': 1, 'parallax': 1, 'scrolling': 1, 'preference': 1, 'tasks': 1, 'whose': 1, 'successors': 1, 'fill': 1, 'styles': 1, 'school': 1, 'together': 1, 'depended': 1, 'spawning': 1, 'sub': 1, 'darpa': 1, 'proof': 1, 'robust': 1, 'tcp': 1, 'ip': 1, 'thanks': 1, 'grew': 1, 'permitted': 1, 'connect': 1, 'impetus': 1, 'mail': 1, 'faster': 1, 'communication': 1, 'conventional': 1, 'memo': 1, 'file': 1, 'ftp': 1, 'unknown': 1, 'public': 1, 'boards': 1, 'compuserve': 1, 'berners': 1, 'simpler': 1, 'vannevar': 1, 'printing': 1, 'boundaries': 1, 'cyberspace': 1, 'anyone': 1, 'connection': 1, 'write': 1, 'pages': 1, 'html': 1, 'format': 1, 'publish': 1, 'thoughts': 1, 'immense': 1, 'shopping': 1, 'element': 1, 'visions': 1, 'consumerism': 1, 'trading': 1, 'websites': 1, 'coms': 1, 'suffix': 1, 'addresses': 1, 'paranoia': 1, 'y': 1, 'hypothesized': 1, 'glitch': 1, 'havoc': 1, 'banks': 1, 'prisons': 1, 'transit': 1, 'sby': 1, 'discoveries': 1, 'preceding': 1, 'transportation': 1, 'radically': 1, 'altered': 1, 'sustainable': 1, 'recorded': 1, 'subcontinent': 1, 'attained': 1, 'indigenous': 1, 'comprising': 1, 'fifth': 1, 'synthesis': 1, 'creating': 1, 'cultural': 1, 'colonialism': 1, 'billion': 1, 'cut': 1, 'cloth': 1, 'standing': 1, 'calculated': 1, 'hadcm': 1, 'usual': 1, 'scenario': 1, 'growth': 1, 'globally': 1, 'averaged': 1, 'corresponds': 1, 'undergoing': 1, 'globalization': 1, 'terminated': 1, 'position': 1, 'unchallenged': 1, 'marginalized': 1, 'rulers': 1, 'integrating': 1, 'gap': 1, 'widen': 1, 'amount': 1, 'wealth': 1, 'shared': 1, 'improve': 1, 'evolving': 1, 'faced': 1, 'challenges': 1, 'task': 1, 'surmounted': 1, 'growing': 1, 'goes': 1, 'terrorism': 1, 'requiring': 1, 'blighted': 1, 'competition': 1, 'resources': 1, 'despots': 1, 'kim': 1, 'jong': 1, 'il': 1, 'toward': 1, 'destabilize': 1, 'viruses': 1, 'malaria': 1, 'diseases': 1, 'affected': 1, 'infected': 1, 'causes': 1, 'becoming': 1, 'importantly': 1, 'speculated': 1, 'environmental': 1, 'livability': 1, 'predicted': 1, 'frequently': 1, 'flood': 1, 'coastal': 1, 'emission': 1, 'particularly': 1, 'burning': 1, 'fossil': 1, 'fuels': 1, 'shift': 1, 'added': 1, 'negotiate': 1, 'mandatory': 1, 'limits': 1, 'celebration': 1, 'expressed': 1, 'millennium': 1, 'strictly': 1, 'centuryinfectious': 1, 'centurydeath': 1, 'rates': 1, 'centurylist': 1, 'artlist': 1, 'leadersmodernismmodern': 1, 'artreferences': 1, 'assassinated': 1, 'ireland': 1, 'rte': 1, 'ie': 1, 'wilde': 1, 'hope': 1, 'side': 1, 'extra': 1, 'centennial': 1, 'mentalfloss': 1, 'maria': 1, 'amiens': 1, 'guns': 1, 'remembering': 1, 'poison': 1, 'brosnan': 1, 'invented': 1, 'dunleavy': 1, 'curve': 1, 'nationalarchives': 1, 'primary': 1, 'friedrich': 1, 'ebert': 1, 'crumbling': 1, 'emerging': 1, 'multi': 1, 'ww': 1, 'net': 1, 'schmitt': 1, 'hans': 1, 'neutral': 1, 'charlottesville': 1, 'va': 1, 'marxists': 1, 'loc': 1, 'darling': 1, 'kylie': 1, 'experience': 1, 'course': 1, 'disillusionment': 1, 'honors': 1, 'shmoop': 1, 'marks': 1, 'julie': 1, 'stock': 1, 'webb': 1, 'weighing': 1, 'response': 1, 'dialogue': 1, 'capitalism': 1, 'amenta': 1, 'edwin': 1, 'carruthers': 1, 'formative': 1, 'spending': 1, 'policies': 1, 'theories': 1, 'sociological': 1, 'ebner': 1, 'which': 1, 'approve': 1, 'attain': 1, 'slate': 1, 'douglasandslavery': 1, 'connelly': 1, 'slavs': 1, 'racist': 1, 'practice': 1, 'steinweis': 1, 'rogers': 1, 'legacy': 1, 'lincoln': 1, 'nebraska': 1, 'gritz': 1, 'jennie': 1, 'rothenberg': 1, 'warnings': 1, 'journalists': 1, 'pre': 1, 'announces': 1, 'nelsson': 1, 'agreement': 1, 'wiegrefe': 1, 'klaus': 1, 'appeasement': 1, 'deutschland': 1, 'run': 1, 'honeymoon': 1, 'dictators': 1, 'invades': 1, 'phoney': 1, 'start': 1, 'takes': 1, 'helm': 1, 'saunders': 1, 'casemate': 1, 'publishers': 1, 'levine': 1, 'tactical': 1, 'moral': 1, 'compromise': 1, 'wylie': 1, 'neville': 1, 'neutrals': 1, 'belligerents': 1, 'cambridge': 1, 'evacuation': 1, 'historic': 1, 'findingdulcinea': 1, 'flexions': 1, 'sur': 1, 'efficacit': 1, 'militaire': 1, 'alpes': 1, 'juin': 1, 'revue': 1, 'historique': 1, 'es': 1, 'rha': 1, 'dunya': 1, 'dunyanews': 1, 'tv': 1, 'tried': 1, 'grant': 1, 'rebecca': 1, 'shrieking': 1, 'ju': 1, 'lingered': 1, 'mind': 1, 'dreaded': 1, 'postpones': 1, 'middleton': 1, 'drew': 1, 'shirer': 1, 'william': 1, 'enigma': 1, 'cia': 1, 'hickman': 1, 'snow': 1, 'might': 1, 'just': 1, 'misunderstood': 1, 'barr': 1, 'niall': 1, 'pendulum': 1, 'overlook': 1, 'evans': 1, 'grand': 1, 'herder': 1, 'lane': 1, 'torch': 1, 'announced': 1, 'liberating': 1, 'monuments': 1, 'syrett': 1, 'columbia': 1, 'sc': 1, 'univ': 1, 'carolina': 1, 'ix': 1, 'ross': 1, 'forecast': 1, 'weatherman': 1, 'ike': 1, 'lyons': 1, 'hall': 1, 'mbi': 1, 'llc': 1, 'palek': 1, 'stephanie': 1, 'valkyrie': 1, 'lib': 1, 'cam': 1, 'ac': 1, 'balfour': 1, 'withstanding': 1, 'hollingham': 1, 'rocket': 1, 'militaryeducation': 1, 'origins': 1, 'werwolf': 1, 'linge': 1, 'heinz': 1, 'memoirs': 1, 'valet': 1, 'frontline': 1, 'horvitz': 1, 'leslie': 1, 'catherwood': 1, 'christopher': 1, 'genocide': 1, 'infobase': 1, 'han': 1, 'suk': 1, 'jung': 1, 'positions': 1, 'cultures': 1, 'quest': 1, 'cavendish': 1, 'davi': 1, 'happen': 1, 'learn': 1, 'eight': 1, 'globalsecurity': 1, 'summary': 1, 'edu': 1, 'reason': 1, 'costello': 1, 'harper': 1, 'collins': 1, 'historyplace': 1, 'jaws': 1, 'stories': 1, 'anmm': 1, 'au': 1, 'permanent': 1, 'dead': 1, 'keegan': 1, 'penguin': 1, 'prange': 1, 'goldstein': 1, 'donald': 1, 'dillon': 1, 'katherine': 1, 'miracle': 1, 'toll': 1, 'ian': 1, 'conquering': 1, 'norton': 1, 'marine': 1, 'corps': 1, 'mca': 1, 'showdown': 1, 'welcome': 1, 'look': 1, 'influential': 1, 'norwich': 1, 'murphy': 1, 'geometry': 1, 'example': 1, 'nichols': 1, 'brimelow': 1, 'photographer': 1, 'snapped': 1, 'bloody': 1, 'slog': 1, 'sulfuric': 1, 'burrell': 1, 'cycle': 1, 'mythology': 1, 'study': 1, 'detachment': 1, 'jmh': 1, 'lacey': 1, 'laura': 1, 'militaryhistoryonline': 1, 'harold': 1, 'names': 1, 'inscribed': 1, 'pref': 1, 'jp': 1, 'been': 1, 'hell': 1, 'maguire': 1, 'amy': 1, 'ojo': 1, 'marvellous': 1, 'finishing': 1, 'accepts': 1, 'levi': 1, 'neil': 1, 'rothberg': 1, 'theoretical': 1, 'readings': 1, 'edinburgh': 1, 'pogrom': 1, 'yad': 1, 'vashem': 1, 'yadvashem': 1, 'schools': 1, 'ghetto': 1, 'cbsnews': 1, 'rhodes': 1, 'masters': 1, 'knopf': 1, 'doubleday': 1, 'hasic': 1, 'albinko': 1, 'deportations': 1, 'cz': 1, 'arnett': 1, 'kirsch': 1, 'adam': 1, 'histories': 1, 'worked': 1, 'yorker': 1, 'ghooi': 1, 'ravindra': 1, 'clinical': 1, 'gutman': 1, 'macmillan': 1, 'does': 1, 'blumberg': 1, 'antonia': 1, 'huffington': 1, 'jewishvirtuallibrary': 1, 'ushmm': 1, 'pows': 1, 'schmitter': 1, 'elke': 1, 'diaries': 1, 'reveal': 1, 'ezard': 1, 'horror': 1, 'oh': 1, 'ca': 1, 'teacher': 1, 'denial': 1, 'changing': 1, 'dreamed': 1, 'atom': 1, 'stockbauer': 1, 'marc': 1, 'department': 1, 'technical': 1, 'types': 1, 'castella': 1, 'reduced': 1, 'modernizations': 1, 'sipri': 1, 'stockholm': 1, 'institute': 1, 'friedman': 1, 'uri': 1, 'nukes': 1, 'depetris': 1, 'npt': 1, 'disarmament': 1, 'programme': 1, 'jazeera': 1, 'aljazeera': 1, 'andrews': 1, 'evan': 1, 'harrison': 1, 'recovery': 1, 'repression': 1, 'pastj': 1, 'gtq': 1, 'virtual': 1, 'centre': 1, 'knowledge': 1, 'historian': 1, 'dobbins': 1, 'poole': 1, 'michele': 1, 'austin': 1, 'fdr': 1, 'rand': 1, 'corporation': 1, 'fail': 1, 'historyonthenet': 1, 'un': 1, 'parker': 1, 'clifton': 1, 'nonviolent': 1, 'offers': 1, 'movements': 1, 'scholar': 1, 'mcquade': 1, 'henderson': 1, 'barney': 1, 'dummett': 1, 'newspaper': 1, 'dien': 1, 'bien': 1, 'phu': 1, 'assensoh': 1, 'nyerere': 1, 'krieger': 1, 'rfi': 1, 'oliveira': 1, 'pedro': 1, 'aires': 1, 'oxford': 1, 'acrefore': 1, 'fisher': 1, 'dividing': 1, 'separatist': 1, 'mahmud': 1, 'tayyab': 1, 'cartographies': 1, 'postcolonial': 1, 'enduring': 1, 'failures': 1, 'unending': 1, 'afghanistan': 1, 'frontier': 1, 'brooklyn': 1, 'ssrn': 1, 'hyde': 1, 'era': 1, 'drawn': 1, 'europeans': 1, 'eu': 1, 'sinews': 1, 'roberts': 1, 'geoffrey': 1, 'smulkstys': 1, 'incorporation': 1, 'lituanus': 1, 'quarterly': 1, 'arts': 1, 'sciences': 1, 'moldovans': 1, 'hoover': 1, 'institution': 1, 'wood': 1, 'stalinism': 1, 'nd': 1, 'psychology': 1, 'englund': 1, 'will': 1, 'swept': 1, 'globe': 1, 'survivor': 1, 'washington': 1, 'fenton': 1, 'rosenberg': 1, 'mcdonough': 1, 'stack': 1, 'liam': 1, 'hastings': 1, 'paperbacks': 1, 'cumings': 1, 'kinzer': 1, 'stephen': 1, 'brothers': 1, 'foster': 1, 'henry': 1, 'holt': 1, 'selling': 1, 'passage': 1, 'dr': 1, 'dooley': 1, 'overtones': 1, 'theses': 1, 'dissertations': 1, 'gravel': 1, 'mike': 1, 'pentagon': 1, 'papers': 1, 'beacon': 1, 'zelizer': 1, 'julian': 1, 'undermined': 1, 'faith': 1, 'bill': 1, 'stages': 1, 'antiwar': 1, 'schultz': 1, 'colin': 1, 'unclassified': 1, 'tapes': 1, 'suggest': 1, 'smithsonian': 1, 'becker': 1, 'mydans': 1, 'seth': 1, 'norodom': 1, 'sihanouk': 1, 'cambodian': 1, 'shifting': 1, 'allegiances': 1, 'michaels': 1, 'jeffrey': 1, 'stuck': 1, 'endless': 1, 'preliminaries': 1, 'defence': 1, 'woollacott': 1, 'martin': 1, 'forty': 1, 'witnessing': 1, 'affairs': 1, 'thirteen': 1, 'waited': 1, 'seemingly': 1, 'peaceful': 1, 'presidential': 1, 'library': 1, 'calls': 1, 'launches': 1, 'russianspaceweb': 1, 'solar': 1, 'cathleen': 1, 'remains': 1, 'pearlman': 1, 'z': 1, 'makings': 1, 'leap': 1, 'coordinated': 1, 'ingham': 1, 'detailing': 1, 'lunar': 1, 'lunokhod': 1, 'factor': 1, 'keldysh': 1, 'venus': 1, 'icarus': 1, 'bibcode': 1, 'icar': 1, 'howell': 1, 'sailing': 1, 'planets': 1, 'sharp': 1, 'ferreira': 1, 'becky': 1, 'marvel': 1, 'clusterfuck': 1, 'underdog': 1, 'hero': 1, 'motherboard': 1, 'torchinsky': 1, 'jason': 1, 'jalopnik': 1, 'iss': 1, 'innovation': 1, 'farley': 1, 'borne': 1, 'geostrategic': 1, 'consideration': 1, 'diplomat': 1, 'siegelbaum': 1, 'seventeen': 1, 'moments': 1, 'kramer': 1, 'bonnell': 1, 'egorov': 1, 'rbth': 1, 'sandford': 1, 'schmemann': 1, 'serge': 1, 'dream': 1, 'flowers': 1, 'design': 1, 'foreword': 1, 'howard': 1, 'campaigne': 1, 'ann': 1, 'hist': 1, 'comput': 1, 'mahc': 1, 'moore': 1, 'cramming': 1, 'onto': 1, 'integrated': 1, 'solid': 1, 'newsletter': 1, 'ssc': 1, 'szczepaniak': 1, 'birthday': 1, 'gamasutra': 1, 'computinghistory': 1, 'computerhistory': 1, 'kellaway': 1, 'alfredo': 1, 'bizfluent': 1, 'lean': 1, 'dreams': 1, 'learned': 1, 'love': 1, 'ngo': 1, 'denise': 1, 'gallery': 1, 'maher': 1, 'jimmy': 1, 'deal': 1, 'ars': 1, 'technica': 1, 'mashable': 1, 'amc': 1, 'cloned': 1, 'podcast': 1, 'musolf': 1, 'nell': 1, 'benson': 1, 'flook': 1, 'diehr': 1, 'bilski': 1, 'prometheus': 1, 'williams': 1, 'sam': 1, 'kent': 1, 'steve': 1, 'ultimate': 1, 'pok': 1, 'mon': 1, 'craze': 1, 'touched': 1, 'our': 1, 'prima': 1, 'pub': 1, 'stanton': 1, 'evolution': 1, 'hongkiat': 1, 'edwards': 1, 'benj': 1, 'civilization': 1, 'dial': 1, 'cerf': 1, 'vint': 1, 'timothy': 1, 'vox': 1, 'flanagan': 1, 'graham': 1, 'told': 1, 'credit': 1, 'wright': 1, 'alex': 1, 'staff': 1, 'tech': 1, 'estrada': 1, 'susan': 1, 'exchange': 1, 'cix': 1, 'further': 1, 'eb': 1, 'founders': 1, 'cb': 1, 'insights': 1, 'lukacs': 1, 'ticknor': 1, 'fields': 1, 'anders': 1, 'waves': 1, 'globalisation': 1, 'se': 1, 'fraser': 1, 'nick': 1, 'won': 1, 'everywhere': 1, 'brilliant': 1, 'essay': 1, 'corstange': 1, 'behavior': 1, 'evidence': 1, 'field': 1, 'lebanon': 1, 'via': 1, 'journalist': 1, 'lam': 1, 'peng': 1, 'er': 1, 'lim': 1, 'tai': 1, 'wei': 1, 'asian': 1, 'drama': 1, 'epidemiology': 1, 'community': 1, 'health': 1, 'jech': 1, 'sejvar': 1, 'ochsner': 1, 'kagaayi': 1, 'serwadda': 1, 'current': 1, 'nathaniel': 1, 'losing': 1, 'earth': 1, 'stopped': 1, 'henson': 1, 'difference': 1, 'sources': 1, 'unesco': 1, 'humanity': 1, 'vii': 1, 'external': 1, 'links': 1, 'slouching': 1, 'towards': 1, 'utopia': 1, 'writers': 1, 'showvtecenturies': 1, 'millenniashowvtehistory': 1, 'centurycategories': 1, 'centuryevents': 1, 'centurythis': 1, 'page': 1, 'edited': 1, 'utc': 1, 'text': 1, 'attribution': 1, 'sharealike': 1, 'license': 1, 'apply': 1, 'agree': 1, 'registered': 1, 'trademark': 1, 'inc': 1, 'profit': 1, 'policyabout': 1, 'wikipediadisclaimerscontact': 1, 'wikipediacode': 1, 'conductdevelopersstatisticscookie': 1, 'statementmobile': 1, 'view': 1})\n"
     ]
    }
   ],
   "source": [
    "# Viewing count \n",
    "print(all_counts)"
   ]
  },
  {
   "cell_type": "code",
   "execution_count": 48,
   "id": "b52ff5d5-5eb1-4032-9b28-201655f6d360",
   "metadata": {},
   "outputs": [],
   "source": [
    "# Reading list of coutnries from CSV file\n",
    "countries = pd.read_csv(\"countries_list_20th.csv\")"
   ]
  },
  {
   "cell_type": "code",
   "execution_count": 49,
   "id": "00bc3745-86d3-465a-bf6c-8633ed41e90a",
   "metadata": {},
   "outputs": [
    {
     "data": {
      "text/html": [
       "<div>\n",
       "<style scoped>\n",
       "    .dataframe tbody tr th:only-of-type {\n",
       "        vertical-align: middle;\n",
       "    }\n",
       "\n",
       "    .dataframe tbody tr th {\n",
       "        vertical-align: top;\n",
       "    }\n",
       "\n",
       "    .dataframe thead th {\n",
       "        text-align: right;\n",
       "    }\n",
       "</style>\n",
       "<table border=\"1\" class=\"dataframe\">\n",
       "  <thead>\n",
       "    <tr style=\"text-align: right;\">\n",
       "      <th></th>\n",
       "      <th>Unnamed: 0</th>\n",
       "      <th>country_name</th>\n",
       "    </tr>\n",
       "  </thead>\n",
       "  <tbody>\n",
       "    <tr>\n",
       "      <th>0</th>\n",
       "      <td>1</td>\n",
       "      <td>Afghanistan</td>\n",
       "    </tr>\n",
       "    <tr>\n",
       "      <th>1</th>\n",
       "      <td>2</td>\n",
       "      <td>Albania</td>\n",
       "    </tr>\n",
       "    <tr>\n",
       "      <th>2</th>\n",
       "      <td>3</td>\n",
       "      <td>Algeria</td>\n",
       "    </tr>\n",
       "    <tr>\n",
       "      <th>3</th>\n",
       "      <td>4</td>\n",
       "      <td>Andorra</td>\n",
       "    </tr>\n",
       "    <tr>\n",
       "      <th>4</th>\n",
       "      <td>5</td>\n",
       "      <td>Angola</td>\n",
       "    </tr>\n",
       "  </tbody>\n",
       "</table>\n",
       "</div>"
      ],
      "text/plain": [
       "   Unnamed: 0  country_name\n",
       "0           1  Afghanistan \n",
       "1           2      Albania \n",
       "2           3      Algeria \n",
       "3           4      Andorra \n",
       "4           5       Angola "
      ]
     },
     "execution_count": 49,
     "metadata": {},
     "output_type": "execute_result"
    }
   ],
   "source": [
    "# Viewing countries \n",
    "countries.head()"
   ]
  },
  {
   "cell_type": "code",
   "execution_count": 50,
   "id": "880ef06f-9bf1-4c15-8690-63512cb19541",
   "metadata": {},
   "outputs": [],
   "source": [
    "# Creating list of country names \n",
    "countries_list = countries['country_name'].tolist()"
   ]
  },
  {
   "cell_type": "code",
   "execution_count": 51,
   "id": "7545be83-70a0-4297-bada-e9661483aac2",
   "metadata": {
    "scrolled": true
   },
   "outputs": [
    {
     "name": "stdout",
     "output_type": "stream",
     "text": [
      "List of Countries: ['Afghanistan ', 'Albania ', 'Algeria ', 'Andorra ', 'Angola ', 'Antigua and Barbuda ', 'Argentina ', 'Armenia ', 'Australia ', 'Austria ', 'Azerbaijan', 'Bahamas', 'Bahrain ', 'Bangladesh ', 'Barbados ', 'Belarus ', 'Belgium ', 'Belize ', 'Benin ', 'Bhutan ', 'Bolivia ', 'Bosnia and Herzegovina ', 'Botswana ', 'Brazil ', 'Brunei Darussalam', 'Bulgaria ', 'Burkina Faso ', 'Burundi', 'Cabo Verde ', 'Cambodia ', 'Cameroon', 'Canada', 'Central African Republic ', 'Chad ', 'Chile ', 'China', 'Colombia ', 'Comoros ', 'Congo', 'Costa Rica', \"Côte D'Ivoire\", 'Croatia ', 'Cuba ', 'Cyprus ', 'Czechia', 'Denmark ', 'Djibouti ', 'Dominica ', 'Dominican Republic', 'Timor-Leste', 'Ecuador ', 'Egypt ', 'El Salvador ', 'Equatorial Guinea ', 'Eritrea ', 'Estonia ', 'Eswatini ', 'Ethiopia', 'Fiji ', 'Finland ', 'France', 'Gabon ', 'Gambia (Republic of The)', 'Georgia ', 'Germany ', 'Ghana ', 'Greece ', 'Grenada ', 'Guatemala ', 'Guinea ', 'Guinea Bissau', 'Bissau ', 'Guyana', 'Haiti ', 'Honduras ', 'Hungary', 'Iceland ', 'India ', 'Indonesia ', 'Iran ', 'Iraq ', 'Ireland ', 'Israel ', 'Italy ', 'Ivory Coast', 'Jamaica ', 'Japan ', 'Jordan', 'Kazakhstan ', 'Kenya ', 'Kiribati ', 'North Korea', 'South Korea', 'Kuwait ', 'Kyrgyzstan', 'Lao People’s Democratic Republic ', 'Latvia ', 'Lebanon ', 'Lesotho ', 'Liberia ', 'Libya ', 'Liechtenstein ', 'Lithuania ', 'Luxembourg', 'Madagascar ', 'Malawi ', 'Malaysia ', 'Maldives ', 'Mali ', 'Malta ', 'Marshall Islands ', 'Mauritania ', 'Mauritius ', 'Mexico ', 'Micronesia (Federated States of)', 'Republic of Moldova ', 'Monaco ', 'Mongolia ', 'Montenegro ', 'Morocco ', 'Mozambique ', 'Myanmar', 'Namibia ', 'Nauru ', ' Nepal ', 'Netherlands ', 'New Zealand ', 'Nicaragua ', 'Niger ', 'Nigeria ', 'North Macedonia ', 'Norway', 'Oman', 'Pakistan ', 'Palau ', 'Palestine ', 'Panama ', 'Papua New Guinea ', 'Paraguay ', 'Peru ', 'Philippines ', 'Poland ', 'Portugal', 'Qatar', 'Romania ', 'Russia ', 'Rwanda', 'Saint Kitts and Nevis ', 'Saint Lucia ', 'Saint Vincent and the Grenadines ', 'Samoa ', 'San Marino ', 'Sao Tome and Principe ', 'Saudi Arabia ', 'Senegal ', ' Serbia ', 'Seychelles ', 'Sierra Leone ', 'Singapore ', 'Slovakia ', 'Slovenia ', 'Solomon Islands ', 'Somalia ', 'South Africa ', 'South Sudan ', 'Spain ', 'Sri Lanka ', 'Sudan ', 'Suriname ', 'Sweden ', 'Switzerland ', 'Syria', 'Tajikistan ', 'Tanzania ', 'Thailand ', 'Togo ', 'Tonga ', 'Trinidad and Tobago ', 'Tunisia ', 'Turkey ', 'Turkmenistan ', 'Tuvalu', 'Uganda ', 'Ukraine ', 'United Arab Emirates ', 'United Kingdom ', 'United States of America', 'Uruguay ', 'Uzbekistan', 'Vanuatu ', 'Vatican City (Holy See) ', 'Venezuela ', 'Vietnam', 'Yemen', 'Zambia ', 'Zimbabwe', \"Democratic People's Republic of Korea\", 'Democratic Republic of the Congo']\n"
     ]
    }
   ],
   "source": [
    "# Viewing list \n",
    "print(\"List of Countries:\", countries_list)"
   ]
  },
  {
   "cell_type": "code",
   "execution_count": 52,
   "id": "6c9bcdc7-7149-4fa9-be2c-cf07642630cc",
   "metadata": {},
   "outputs": [],
   "source": [
    "# Creating a dictionary of counts for countries mentioned in text \n",
    "dict_of_counts = {}\n",
    "for country in countries_list:\n",
    "    country_normalized = country.lower().strip()\n",
    "    if country_normalized in all_counts:\n",
    "        dict_of_counts[country] = all_counts[country_normalized]\n",
    "    else:\n",
    "        dict_of_counts[country] = 0"
   ]
  },
  {
   "cell_type": "code",
   "execution_count": 53,
   "id": "545acd53-620b-43a8-8abf-871dd974bc4d",
   "metadata": {
    "scrolled": true
   },
   "outputs": [
    {
     "name": "stdout",
     "output_type": "stream",
     "text": [
      "Dictionary of Counts: {'Afghanistan ': 1, 'Albania ': 2, 'Algeria ': 1, 'Andorra ': 0, 'Angola ': 1, 'Antigua and Barbuda ': 0, 'Argentina ': 0, 'Armenia ': 0, 'Australia ': 2, 'Austria ': 5, 'Azerbaijan': 0, 'Bahamas': 0, 'Bahrain ': 0, 'Bangladesh ': 2, 'Barbados ': 0, 'Belarus ': 1, 'Belgium ': 2, 'Belize ': 0, 'Benin ': 0, 'Bhutan ': 0, 'Bolivia ': 0, 'Bosnia and Herzegovina ': 0, 'Botswana ': 0, 'Brazil ': 0, 'Brunei Darussalam': 0, 'Bulgaria ': 2, 'Burkina Faso ': 0, 'Burundi': 0, 'Cabo Verde ': 0, 'Cambodia ': 2, 'Cameroon': 0, 'Canada': 2, 'Central African Republic ': 0, 'Chad ': 0, 'Chile ': 0, 'China': 10, 'Colombia ': 0, 'Comoros ': 0, 'Congo': 1, 'Costa Rica': 0, \"Côte D'Ivoire\": 0, 'Croatia ': 0, 'Cuba ': 3, 'Cyprus ': 0, 'Czechia': 0, 'Denmark ': 3, 'Djibouti ': 0, 'Dominica ': 0, 'Dominican Republic': 0, 'Timor-Leste': 0, 'Ecuador ': 0, 'Egypt ': 2, 'El Salvador ': 0, 'Equatorial Guinea ': 0, 'Eritrea ': 0, 'Estonia ': 2, 'Eswatini ': 0, 'Ethiopia': 0, 'Fiji ': 0, 'Finland ': 4, 'France': 16, 'Gabon ': 0, 'Gambia (Republic of The)': 0, 'Georgia ': 0, 'Germany ': 43, 'Ghana ': 1, 'Greece ': 4, 'Grenada ': 0, 'Guatemala ': 0, 'Guinea ': 4, 'Guinea Bissau': 0, 'Bissau ': 1, 'Guyana': 0, 'Haiti ': 0, 'Honduras ': 0, 'Hungary': 3, 'Iceland ': 0, 'India ': 9, 'Indonesia ': 0, 'Iran ': 4, 'Iraq ': 1, 'Ireland ': 1, 'Israel ': 4, 'Italy ': 15, 'Ivory Coast': 0, 'Jamaica ': 0, 'Japan ': 33, 'Jordan': 0, 'Kazakhstan ': 0, 'Kenya ': 1, 'Kiribati ': 0, 'North Korea': 0, 'South Korea': 0, 'Kuwait ': 0, 'Kyrgyzstan': 0, 'Lao People’s Democratic Republic ': 0, 'Latvia ': 2, 'Lebanon ': 1, 'Lesotho ': 0, 'Liberia ': 0, 'Libya ': 5, 'Liechtenstein ': 0, 'Lithuania ': 3, 'Luxembourg': 1, 'Madagascar ': 0, 'Malawi ': 0, 'Malaysia ': 0, 'Maldives ': 0, 'Mali ': 0, 'Malta ': 0, 'Marshall Islands ': 0, 'Mauritania ': 0, 'Mauritius ': 0, 'Mexico ': 1, 'Micronesia (Federated States of)': 0, 'Republic of Moldova ': 0, 'Monaco ': 0, 'Mongolia ': 1, 'Montenegro ': 0, 'Morocco ': 1, 'Mozambique ': 1, 'Myanmar': 0, 'Namibia ': 0, 'Nauru ': 0, ' Nepal ': 0, 'Netherlands ': 2, 'New Zealand ': 0, 'Nicaragua ': 0, 'Niger ': 0, 'Nigeria ': 0, 'North Macedonia ': 0, 'Norway': 5, 'Oman': 0, 'Pakistan ': 4, 'Palau ': 0, 'Palestine ': 0, 'Panama ': 0, 'Papua New Guinea ': 0, 'Paraguay ': 0, 'Peru ': 0, 'Philippines ': 5, 'Poland ': 13, 'Portugal': 0, 'Qatar': 0, 'Romania ': 3, 'Russia ': 10, 'Rwanda': 0, 'Saint Kitts and Nevis ': 0, 'Saint Lucia ': 0, 'Saint Vincent and the Grenadines ': 0, 'Samoa ': 0, 'San Marino ': 0, 'Sao Tome and Principe ': 0, 'Saudi Arabia ': 0, 'Senegal ': 0, ' Serbia ': 0, 'Seychelles ': 1, 'Sierra Leone ': 0, 'Singapore ': 2, 'Slovakia ': 0, 'Slovenia ': 0, 'Solomon Islands ': 0, 'Somalia ': 0, 'South Africa ': 0, 'South Sudan ': 0, 'Spain ': 1, 'Sri Lanka ': 0, 'Sudan ': 0, 'Suriname ': 0, 'Sweden ': 1, 'Switzerland ': 0, 'Syria': 0, 'Tajikistan ': 0, 'Tanzania ': 0, 'Thailand ': 1, 'Togo ': 0, 'Tonga ': 0, 'Trinidad and Tobago ': 0, 'Tunisia ': 0, 'Turkey ': 0, 'Turkmenistan ': 0, 'Tuvalu': 0, 'Uganda ': 0, 'Ukraine ': 2, 'United Arab Emirates ': 0, 'United Kingdom ': 0, 'United States of America': 0, 'Uruguay ': 0, 'Uzbekistan': 0, 'Vanuatu ': 0, 'Vatican City (Holy See) ': 0, 'Venezuela ': 0, 'Vietnam': 13, 'Yemen': 0, 'Zambia ': 0, 'Zimbabwe': 0, \"Democratic People's Republic of Korea\": 0, 'Democratic Republic of the Congo': 0}\n"
     ]
    }
   ],
   "source": [
    "# Viewing dictionary of counts \n",
    "print(\"Dictionary of Counts:\", dict_of_counts)"
   ]
  },
  {
   "cell_type": "code",
   "execution_count": 54,
   "id": "f0bf36ba-7689-4d63-887c-9404582b7acf",
   "metadata": {
    "scrolled": true
   },
   "outputs": [],
   "source": [
    "# Converting dictionary to a dataframe \n",
    "counts_df = pd.DataFrame(list(dict_of_counts.items()), columns=['Country', 'Mentions'])"
   ]
  },
  {
   "cell_type": "code",
   "execution_count": 55,
   "id": "4f289654-2dfe-4092-9920-981fcc64e139",
   "metadata": {},
   "outputs": [
    {
     "name": "stdout",
     "output_type": "stream",
     "text": [
      "        Country  Mentions\n",
      "0  Afghanistan          1\n",
      "1      Albania          2\n",
      "2      Algeria          1\n",
      "3      Andorra          0\n",
      "4       Angola          1\n"
     ]
    }
   ],
   "source": [
    "# Viewing df \n",
    "print(counts_df[:5])"
   ]
  },
  {
   "cell_type": "code",
   "execution_count": null,
   "id": "ca9351e2-5702-4d14-98b0-8dae1f086ba3",
   "metadata": {
    "scrolled": true
   },
   "outputs": [],
   "source": [
    "# Plotting df with countries and number of mentions \n",
    "plt.figure(figsize=(10, len(counts_df) * 0.5))\n",
    "with sns.dark_palette(\"#79C\", 27):\n",
    "    sns.barplot(x = \"Mentions\", y = \"Country\",\n",
    "    saturation=0.9, data = counts_df.sort_values(\"Mentions\", ascending = False)).set_title(\"20th Century - most frequently mentioned countries\")\n",
    "# Adding values to the bars\n",
    "for index, value in enumerate(counts_df[\"Mentions\"].sort_values(ascending=False)):\n",
    "    plt.text(value, index, str(value), ha='left', va='center')  # Specify the x-coordinate for the text annotations\n",
    "plt.show()"
   ]
  },
  {
   "cell_type": "markdown",
   "id": "985bf7b9-75c6-4b9b-81d4-4291132ce295",
   "metadata": {},
   "source": [
    "Germany and Japan are mentioned the most due to their involvement in conflicts such as world war II in the 20th century. They were the two main Axis powers during world war II."
   ]
  }
 ],
 "metadata": {
  "kernelspec": {
   "display_name": "Python 3 (ipykernel)",
   "language": "python",
   "name": "python3"
  },
  "language_info": {
   "codemirror_mode": {
    "name": "ipython",
    "version": 3
   },
   "file_extension": ".py",
   "mimetype": "text/x-python",
   "name": "python",
   "nbconvert_exporter": "python",
   "pygments_lexer": "ipython3",
   "version": "3.12.3"
  }
 },
 "nbformat": 4,
 "nbformat_minor": 5
}
